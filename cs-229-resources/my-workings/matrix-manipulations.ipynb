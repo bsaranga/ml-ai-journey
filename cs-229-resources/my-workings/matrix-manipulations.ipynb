{
 "cells": [
  {
   "cell_type": "markdown",
   "source": [
    "# Matrix Manipulations With Numpy"
   ],
   "metadata": {
    "collapsed": false
   },
   "id": "684a7e14be29c71b"
  },
  {
   "cell_type": "code",
   "execution_count": 5,
   "outputs": [],
   "source": [
    "import numpy as np\n",
    "\n",
    "m1 = np.array([[1,2,3],\n",
    "               [4,5,6],\n",
    "               [7,8,9]])"
   ],
   "metadata": {
    "collapsed": false,
    "ExecuteTime": {
     "end_time": "2023-10-22T15:30:07.616343487Z",
     "start_time": "2023-10-22T15:30:07.606489409Z"
    }
   },
   "id": "be1429e112d06223"
  },
  {
   "cell_type": "code",
   "execution_count": 29,
   "outputs": [
    {
     "name": "stdout",
     "output_type": "stream",
     "text": [
      "Dimensions: 2\n",
      "Shape: (3, 3)\n",
      "Num elements: 9\n"
     ]
    }
   ],
   "source": [
    "print(f'Dimensions: {m1.ndim}')\n",
    "print(f'Shape: {m1.shape}')\n",
    "print(f'Num elements: {m1.size}')"
   ],
   "metadata": {
    "collapsed": false,
    "ExecuteTime": {
     "end_time": "2023-10-22T15:38:38.727628731Z",
     "start_time": "2023-10-22T15:38:38.686828243Z"
    }
   },
   "id": "2ff6521f51bb981c"
  },
  {
   "cell_type": "code",
   "execution_count": 38,
   "outputs": [
    {
     "name": "stdout",
     "output_type": "stream",
     "text": [
      "[[1 2 3]\n",
      " [4 5 6]\n",
      " [7 8 9]]\n"
     ]
    }
   ],
   "source": [
    "m2 = np.array([[1,1,1],\n",
    "               [1,1,1],\n",
    "               [1,1,1]])\n",
    "\n",
    "m1m2 = m1 * m2\n",
    "print(m1m2)"
   ],
   "metadata": {
    "collapsed": false,
    "ExecuteTime": {
     "end_time": "2023-10-22T17:48:08.535590477Z",
     "start_time": "2023-10-22T17:48:08.493774375Z"
    }
   },
   "id": "acaa54628f38b201"
  }
 ],
 "metadata": {
  "kernelspec": {
   "display_name": "Python 3",
   "language": "python",
   "name": "python3"
  },
  "language_info": {
   "codemirror_mode": {
    "name": "ipython",
    "version": 2
   },
   "file_extension": ".py",
   "mimetype": "text/x-python",
   "name": "python",
   "nbconvert_exporter": "python",
   "pygments_lexer": "ipython2",
   "version": "2.7.6"
  }
 },
 "nbformat": 4,
 "nbformat_minor": 5
}
