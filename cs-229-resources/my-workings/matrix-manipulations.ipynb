{
 "cells": [
  {
   "cell_type": "markdown",
   "source": [
    "# Matrix Manipulations With Numpy"
   ],
   "metadata": {
    "collapsed": false
   },
   "id": "684a7e14be29c71b"
  },
  {
   "cell_type": "code",
   "execution_count": 2,
   "outputs": [],
   "source": [
    "import numpy as np\n",
    "\n",
    "m1 = np.array([[1,2,3],\n",
    "               [4,5,6],\n",
    "               [7,8,9]])"
   ],
   "metadata": {
    "collapsed": false,
    "ExecuteTime": {
     "end_time": "2023-10-23T02:25:32.385235810Z",
     "start_time": "2023-10-23T02:25:32.171436552Z"
    }
   },
   "id": "be1429e112d06223"
  },
  {
   "cell_type": "code",
   "execution_count": 3,
   "outputs": [
    {
     "name": "stdout",
     "output_type": "stream",
     "text": [
      "Dimensions: 2\n",
      "Shape: (3, 3)\n",
      "Num elements: 9\n"
     ]
    }
   ],
   "source": [
    "print(f'Dimensions: {m1.ndim}')\n",
    "print(f'Shape: {m1.shape}')\n",
    "print(f'Num elements: {m1.size}')"
   ],
   "metadata": {
    "collapsed": false,
    "ExecuteTime": {
     "end_time": "2023-10-23T02:25:32.391723080Z",
     "start_time": "2023-10-23T02:25:32.386076728Z"
    }
   },
   "id": "2ff6521f51bb981c"
  },
  {
   "cell_type": "code",
   "execution_count": 21,
   "outputs": [
    {
     "name": "stdout",
     "output_type": "stream",
     "text": [
      "Dimensions: 2\n",
      "Shape: (3, 1)\n",
      "Num elements: 3\n",
      "\n",
      "Matrix multiplication is carried out by the '@' operator:\n",
      "\n",
      "[[12]\n",
      " [30]\n",
      " [48]]\n"
     ]
    }
   ],
   "source": [
    "m2 = np.array([[2],\n",
    "               [2],\n",
    "               [2]])\n",
    "\n",
    "print(f'Dimensions: {m2.ndim}')\n",
    "print(f'Shape: {m2.shape}')\n",
    "print(f'Num elements: {m2.size}')\n",
    "\n",
    "# Multiplication\n",
    "m12 = m1 @ m2\n",
    "print(\"\\nMatrix multiplication is carried out by the '@' operator:\\n\")\n",
    "print(m12)"
   ],
   "metadata": {
    "collapsed": false,
    "ExecuteTime": {
     "end_time": "2023-10-23T02:34:12.567011949Z",
     "start_time": "2023-10-23T02:34:12.523391606Z"
    }
   },
   "id": "acaa54628f38b201"
  },
  {
   "cell_type": "markdown",
   "source": [
    "# Vector Products"
   ],
   "metadata": {
    "collapsed": false
   },
   "id": "76e921fe025a7211"
  },
  {
   "cell_type": "markdown",
   "source": [
    "## Dot Product (Inner Product)"
   ],
   "metadata": {
    "collapsed": false
   },
   "id": "2aa68cc13b2b2306"
  },
  {
   "cell_type": "code",
   "execution_count": 37,
   "outputs": [
    {
     "name": "stdout",
     "output_type": "stream",
     "text": [
      "12\n"
     ]
    }
   ],
   "source": [
    "vec1 = np.array([1,2,3])\n",
    "vec2 = np.array([2,2,2])\n",
    "\n",
    "vec12 = vec1 @ vec2\n",
    "print(vec12)\n"
   ],
   "metadata": {
    "collapsed": false,
    "ExecuteTime": {
     "end_time": "2023-10-23T02:37:49.807012305Z",
     "start_time": "2023-10-23T02:37:49.762571309Z"
    }
   },
   "id": "e620bb21522f7680"
  },
  {
   "cell_type": "code",
   "execution_count": 39,
   "outputs": [
    {
     "name": "stdout",
     "output_type": "stream",
     "text": [
      "12\n"
     ]
    }
   ],
   "source": [
    "vec12_dot = vec1.dot(vec2)\n",
    "print(vec12_dot)"
   ],
   "metadata": {
    "collapsed": false,
    "ExecuteTime": {
     "end_time": "2023-10-23T02:38:08.613600605Z",
     "start_time": "2023-10-23T02:38:08.604832514Z"
    }
   },
   "id": "2386b66ffe91b70b"
  },
  {
   "cell_type": "markdown",
   "source": [
    "## Outer Product"
   ],
   "metadata": {
    "collapsed": false
   },
   "id": "dc0f7a027ebbace"
  },
  {
   "cell_type": "code",
   "execution_count": 61,
   "outputs": [],
   "source": [
    "vec3 = np.array([1,1,1])\n",
    "vec4 = np.array([4,5,6,7])"
   ],
   "metadata": {
    "collapsed": false,
    "ExecuteTime": {
     "end_time": "2023-10-23T03:26:49.984606926Z",
     "start_time": "2023-10-23T03:26:49.982722697Z"
    }
   },
   "id": "dde664164117de5c"
  }
 ],
 "metadata": {
  "kernelspec": {
   "display_name": "Python 3",
   "language": "python",
   "name": "python3"
  },
  "language_info": {
   "codemirror_mode": {
    "name": "ipython",
    "version": 2
   },
   "file_extension": ".py",
   "mimetype": "text/x-python",
   "name": "python",
   "nbconvert_exporter": "python",
   "pygments_lexer": "ipython2",
   "version": "2.7.6"
  }
 },
 "nbformat": 4,
 "nbformat_minor": 5
}
