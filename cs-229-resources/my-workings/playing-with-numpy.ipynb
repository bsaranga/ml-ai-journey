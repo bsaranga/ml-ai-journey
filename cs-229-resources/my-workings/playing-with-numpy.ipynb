{
 "cells": [
  {
   "cell_type": "markdown",
   "source": [
    "## Playing with Numpy"
   ],
   "metadata": {
    "collapsed": false
   },
   "id": "4c475c1929fab628"
  },
  {
   "cell_type": "code",
   "execution_count": 4,
   "outputs": [],
   "source": [
    "import numpy as np"
   ],
   "metadata": {
    "collapsed": false,
    "ExecuteTime": {
     "end_time": "2023-10-19T18:31:21.150121901Z",
     "start_time": "2023-10-19T18:31:21.129718668Z"
    }
   },
   "id": "4f32284216007cb"
  },
  {
   "cell_type": "markdown",
   "source": [
    "### Numpy Arrays"
   ],
   "metadata": {
    "collapsed": false
   },
   "id": "893ff4a1a0e340a"
  },
  {
   "cell_type": "code",
   "execution_count": 47,
   "outputs": [
    {
     "name": "stdout",
     "output_type": "stream",
     "text": [
      "Data type of the array is `int64`\n",
      "Number of dimensions of the array is `1`\n",
      "2\n"
     ]
    }
   ],
   "source": [
    "first_array = np.array([1,2,3,4,5,6])\n",
    "dataType = first_array.dtype\n",
    "print(f\"Data type of the array is `{dataType}`\")\n",
    "\n",
    "numberOfDimensions = first_array.ndim\n",
    "print(f\"Number of dimensions of the array is `{numberOfDimensions}`\")\n",
    "\n",
    "evens = [i for i in range(2, 12, 2)]\n",
    "odds = [j for j in range(1, 11, 2)]\n",
    "\n",
    "second_array = np.array([evens, odds])\n",
    "print(second_array.ndim)"
   ],
   "metadata": {
    "collapsed": false,
    "ExecuteTime": {
     "end_time": "2023-10-19T18:47:22.157710664Z",
     "start_time": "2023-10-19T18:47:22.141380501Z"
    }
   },
   "id": "c2296e822a124ced"
  }
 ],
 "metadata": {
  "kernelspec": {
   "display_name": "Python 3",
   "language": "python",
   "name": "python3"
  },
  "language_info": {
   "codemirror_mode": {
    "name": "ipython",
    "version": 2
   },
   "file_extension": ".py",
   "mimetype": "text/x-python",
   "name": "python",
   "nbconvert_exporter": "python",
   "pygments_lexer": "ipython2",
   "version": "2.7.6"
  }
 },
 "nbformat": 4,
 "nbformat_minor": 5
}
