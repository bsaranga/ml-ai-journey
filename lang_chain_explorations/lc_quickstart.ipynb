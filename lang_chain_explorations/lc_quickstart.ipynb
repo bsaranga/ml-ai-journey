{
 "cells": [
  {
   "cell_type": "code",
   "execution_count": 60,
   "metadata": {},
   "outputs": [
    {
     "name": "stdout",
     "output_type": "stream",
     "text": [
      "Quantum Chromodynamics (QCD)\n",
      "\n",
      "Strong Force\n",
      "\n",
      "Color Charge\n",
      "\n",
      "Quarks\n",
      "\n",
      "Gauge Bosons\n",
      "\n",
      "Confinement\n",
      "\n",
      "Asymptotic Freedom\n",
      "\n",
      "Hadrons\n",
      "\n",
      "Particle Accelerators\n",
      "\n",
      "Lattice QCD\n",
      "\n",
      "Feynman Diagrams\n",
      "\n",
      "Beta Function (QCD)\n",
      "\n",
      "Gluon Field Strength Tensor\n",
      "\n",
      "Running Coupling Constant\n",
      "\n"
     ]
    }
   ],
   "source": [
    "from dotenv import load_dotenv\n",
    "from langchain.chat_models import ChatOpenAI\n",
    "from langchain.prompts import ChatPromptTemplate\n",
    "\n",
    "load_dotenv()\n",
    "\n",
    "model = ChatOpenAI(model=\"gpt-4-1106-preview\", temperature=0.1)\n",
    "prompt = ChatPromptTemplate.from_template(\"For the topic {topic} in the field of {field}, give a list of 1 to 15 fundamental constituent topics as comma separated values.\")\n",
    "chain = prompt | model\n",
    "\n",
    "buffer = \"\"\n",
    "for s in chain.stream({\"topic\": \"gluons\", \"field\": \"physics\"}):\n",
    "    buffer += s.content\n",
    "    if (buffer.strip().split(\",\").__len__() > 1):\n",
    "        for word in buffer.strip().split(\",\"):\n",
    "            print(word)\n",
    "        buffer = \"\"\n"
   ]
  }
 ],
 "metadata": {
  "kernelspec": {
   "display_name": "lang_chain_env",
   "language": "python",
   "name": "python3"
  },
  "language_info": {
   "codemirror_mode": {
    "name": "ipython",
    "version": 3
   },
   "file_extension": ".py",
   "mimetype": "text/x-python",
   "name": "python",
   "nbconvert_exporter": "python",
   "pygments_lexer": "ipython3",
   "version": "3.10.6"
  },
  "orig_nbformat": 4
 },
 "nbformat": 4,
 "nbformat_minor": 2
}
