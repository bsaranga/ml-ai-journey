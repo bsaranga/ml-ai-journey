{
 "cells": [
  {
   "cell_type": "markdown",
   "metadata": {},
   "source": [
    "# CS229 Spring 2022 Python Tutorial"
   ]
  },
  {
   "cell_type": "markdown",
   "source": [
    "Some contents are inspired by [CS231N Python tutorial notebook](https://colab.research.google.com/github/cs231n/cs231n.github.io/blob/master/python-colab.ipynb#scrollTo=9t1gKp9PL9eV)\n",
    "\n",
    "In this tutorial we cover\n",
    "\n",
    "* [Basic Python](#Basic-Python)\n",
    "   * [If Statement](#If-Statement)\n",
    "   * [Python Operators](#Python-Operators)\n",
    "   * [Loops](#Loop)\n",
    "   * [Functions](#Function)\n",
    "* [Simple python data type](#Simple-Python-data-types)\n",
    "   * [String](#String)\n",
    "   * [List](#List)\n",
    "   * [Tuple](#Tuple)\n",
    "   * [Set/Dictionary](#Dictionary/Set)\n",
    "* [Numpy](#Numpy)\n",
    "   * [Array (matrix) initialization](#Array-initialization)\n",
    "   * [Shape](#Array-shape)\n",
    "   * [Math with numpy](#Numpy-math)\n",
    "* [Dimension manipulation and broadcasting](#Broadcasting-and-dimension-manipulation)\n",
    "    * [Tile](#Tile)\n",
    "    * [Squeeze/expand_dims](#Expand/Squeeze)\n",
    "    * [Example: compute pairwise distance](#Pairwise-distance)\n",
    "* [Vectorization](#Vectorization)\n",
    "    * [Example: dot product](#Dot-product)\n",
    "    * [Exmaple: 2d matrix multiplication](#Matrix-multiplication-(2D))\n",
    "    * [Exmaple: pairwise distance, again](#Pairwise-distance,-again)\n",
    "* [Plotting](#Matplotlib)\n",
    "    * [Simple plotting (line, scatter)](#Simple-plotting)\n",
    "    * [Confusion matrix](#Confusion-matrix)\n",
    "    * [Show images](#Show-image)\n",
    "* [Pandas](#Pandas)\n",
    "    * [Load/Save](#File-operations)\n",
    "    * [Manipulations](#Manipulations)\n",
    "    * [Create from scratch](#Create-dataframe)\n",
    "    * [Plotting](#Simple-plotting)"
   ],
   "metadata": {
    "collapsed": false
   }
  },
  {
   "cell_type": "markdown",
   "metadata": {},
   "source": [
    "## Basic Python"
   ]
  },
  {
   "cell_type": "markdown",
   "metadata": {},
   "source": [
    "### If Statement"
   ]
  },
  {
   "cell_type": "code",
   "execution_count": 4,
   "metadata": {
    "ExecuteTime": {
     "end_time": "2023-10-19T18:09:58.092270969Z",
     "start_time": "2023-10-19T18:09:58.006198493Z"
    }
   },
   "outputs": [],
   "source": [
    "code = 230"
   ]
  },
  {
   "cell_type": "code",
   "execution_count": 5,
   "metadata": {
    "ExecuteTime": {
     "end_time": "2023-10-19T18:09:59.248288325Z",
     "start_time": "2023-10-19T18:09:59.184079161Z"
    }
   },
   "outputs": [
    {
     "name": "stdout",
     "output_type": "stream",
     "text": [
      "That's deep learning!\n"
     ]
    }
   ],
   "source": [
    "if code == 229:\n",
    "    print('Hello CS229!')\n",
    "elif code == 230:\n",
    "    print('That\\'s deep learning!')\n",
    "elif code < 200:\n",
    "    print('That is some undergraduate class')\n",
    "else:\n",
    "    print('Wrong class!')"
   ]
  },
  {
   "cell_type": "markdown",
   "metadata": {},
   "source": [
    "Python doesn't have \"switch\" statement."
   ]
  },
  {
   "cell_type": "markdown",
   "metadata": {},
   "source": [
    "### Python Operators\n",
    "\n",
    "**Logical operators**"
   ]
  },
  {
   "cell_type": "code",
   "execution_count": 7,
   "metadata": {
    "ExecuteTime": {
     "end_time": "2023-10-19T18:10:18.271634543Z",
     "start_time": "2023-10-19T18:10:18.218310522Z"
    }
   },
   "outputs": [],
   "source": [
    "true = True\n",
    "false = False"
   ]
  },
  {
   "cell_type": "code",
   "execution_count": 8,
   "metadata": {
    "ExecuteTime": {
     "end_time": "2023-10-19T18:10:22.439836638Z",
     "start_time": "2023-10-19T18:10:22.386555942Z"
    }
   },
   "outputs": [
    {
     "name": "stdout",
     "output_type": "stream",
     "text": [
      "It's true!\n",
      "It's still true!\n",
      "Anyhow, it's true!\n",
      "Okay, it's false now....\n"
     ]
    }
   ],
   "source": [
    "if true:\n",
    "    print(\"It's true!\") \n",
    "\n",
    "if not false:\n",
    "    print(\"It's still true!\")\n",
    "    \n",
    "if true and not false:\n",
    "    print(\"Anyhow, it's true!\")\n",
    "    \n",
    "if false or not true:\n",
    "    print(\"True?\")\n",
    "    \n",
    "else:\n",
    "    print(\"Okay, it's false now....\")\n",
    "    "
   ]
  },
  {
   "cell_type": "markdown",
   "metadata": {},
   "source": [
    "**&, | and ~ are all bitwise operators**\n",
    "\n",
    "^ means bitwise XOR in Python."
   ]
  },
  {
   "cell_type": "markdown",
   "metadata": {},
   "source": [
    "**Arithmetic operators**"
   ]
  },
  {
   "cell_type": "code",
   "execution_count": 9,
   "metadata": {
    "ExecuteTime": {
     "end_time": "2023-10-19T18:10:30.455983396Z",
     "start_time": "2023-10-19T18:10:30.370471678Z"
    }
   },
   "outputs": [
    {
     "name": "stdout",
     "output_type": "stream",
     "text": [
      "2.5\n",
      "1\n",
      "25\n",
      "2\n"
     ]
    }
   ],
   "source": [
    "print(5 / 2) # floating number division\n",
    "print(5 % 2) # remainder\n",
    "print(5 ** 2) # exponentiation\n",
    "print(5 // 2) # integer division"
   ]
  },
  {
   "cell_type": "markdown",
   "metadata": {},
   "source": [
    "### Loop\n",
    "\n",
    "We typically use *range* and *enumerate* for iterations. You can loop over all iterables."
   ]
  },
  {
   "cell_type": "code",
   "execution_count": 10,
   "metadata": {
    "ExecuteTime": {
     "end_time": "2023-10-19T18:10:36.802819751Z",
     "start_time": "2023-10-19T18:10:36.749086430Z"
    }
   },
   "outputs": [
    {
     "name": "stdout",
     "output_type": "stream",
     "text": [
      "0\n",
      "1\n",
      "2\n",
      "3\n",
      "4\n"
     ]
    }
   ],
   "source": [
    "for i in range(5):\n",
    "    print(i)"
   ]
  },
  {
   "cell_type": "code",
   "execution_count": 11,
   "metadata": {
    "ExecuteTime": {
     "end_time": "2023-10-19T18:10:41.379745017Z",
     "start_time": "2023-10-19T18:10:41.291654380Z"
    }
   },
   "outputs": [
    {
     "name": "stdout",
     "output_type": "stream",
     "text": [
      "5\n",
      "4\n",
      "3\n",
      "2\n",
      "1\n"
     ]
    }
   ],
   "source": [
    "a = 5\n",
    "while a > 0:\n",
    "    print(a)\n",
    "    a -= 1"
   ]
  },
  {
   "cell_type": "markdown",
   "metadata": {},
   "source": [
    "Python doesn't have command like \"a++\" or \"a--\"."
   ]
  },
  {
   "cell_type": "markdown",
   "metadata": {},
   "source": [
    "### Function\n",
    "\n",
    "Python functions can take default arguments, they have to be at the end. Be VERY careful because forgetting that you have default argument can prevent you from debugging effectively."
   ]
  },
  {
   "cell_type": "code",
   "execution_count": 12,
   "metadata": {
    "ExecuteTime": {
     "end_time": "2023-10-19T18:10:56.030074733Z",
     "start_time": "2023-10-19T18:10:55.920181045Z"
    }
   },
   "outputs": [
    {
     "name": "stdout",
     "output_type": "stream",
     "text": [
      "100\n",
      "1000\n"
     ]
    }
   ],
   "source": [
    "def power(v, p=2):\n",
    "    return v ** p # How to return multiple values?\n",
    "\n",
    "print(power(10))\n",
    "print(power(10, 3))"
   ]
  },
  {
   "cell_type": "markdown",
   "metadata": {},
   "source": [
    "Functions can support extra arguments. You can pass them on to another function, or make use of these directly.\n",
    "\n",
    "- args: variable number of non-keyworded arguments\n",
    "- kwargs: variable number of keyworded arguments"
   ]
  },
  {
   "cell_type": "code",
   "execution_count": 13,
   "metadata": {
    "ExecuteTime": {
     "end_time": "2023-10-19T18:11:15.460347945Z",
     "start_time": "2023-10-19T18:11:15.403375109Z"
    }
   },
   "outputs": [],
   "source": [
    "def func2(*args, **kwargs):\n",
    "    print(args)\n",
    "    print(kwargs)\n",
    "    "
   ]
  },
  {
   "cell_type": "code",
   "execution_count": 14,
   "metadata": {
    "ExecuteTime": {
     "end_time": "2023-10-19T18:11:30.594877674Z",
     "start_time": "2023-10-19T18:11:30.482615941Z"
    }
   },
   "outputs": [
    {
     "name": "stdout",
     "output_type": "stream",
     "text": [
      "('extra 1', 'extra 2')\n",
      "{'power': 3}\n",
      "1000\n",
      "--------------\n",
      "(5,)\n",
      "{}\n",
      "10\n"
     ]
    }
   ],
   "source": [
    "def func1(v, *args, **kwargs):\n",
    "    \n",
    "    func2(*args, **kwargs)\n",
    "    \n",
    "    if 'power' in kwargs:\n",
    "        return v ** kwargs['power']\n",
    "    else:\n",
    "        return v\n",
    "\n",
    "print(func1(10, 'extra 1', 'extra 2', power=3))\n",
    "print('--------------')\n",
    "print(func1(10, 5))"
   ]
  },
  {
   "cell_type": "markdown",
   "metadata": {},
   "source": [
    "**Good practice:**\n",
    "- write out argument name and their value"
   ]
  },
  {
   "cell_type": "markdown",
   "metadata": {},
   "source": [
    "## Simple Python data types"
   ]
  },
  {
   "cell_type": "markdown",
   "metadata": {},
   "source": [
    "### String\n",
    "See Python documentation [here](https://docs.python.org/3/library/string.html)"
   ]
  },
  {
   "cell_type": "code",
   "execution_count": null,
   "metadata": {},
   "outputs": [],
   "source": [
    "cs_class_code = 229"
   ]
  },
  {
   "cell_type": "code",
   "execution_count": null,
   "metadata": {},
   "outputs": [],
   "source": [
    "# Concatenation\n",
    "\n",
    "print('I like CS ' + str(cs_class_code) + ' a lot!')\n",
    "print(f'I like CS {cs_class_code} a lot!')"
   ]
  },
  {
   "cell_type": "code",
   "execution_count": null,
   "metadata": {},
   "outputs": [],
   "source": [
    "# Formatting\n",
    "\n",
    "print('I love CS229. (upper)'.upper())\n",
    "print('I love CS229. (rjust 50)'.rjust(50))\n",
    "print('we love CS229. (capitalize)'.capitalize())\n",
    "print('       I love CS229. (strip)        '.strip())"
   ]
  },
  {
   "cell_type": "markdown",
   "metadata": {},
   "source": [
    "\"f\"-string (f for formatting?) is new since Python 3.6. Embed values using { }"
   ]
  },
  {
   "cell_type": "code",
   "execution_count": null,
   "metadata": {},
   "outputs": [],
   "source": [
    "print(f'{print} (print a function)')\n",
    "print(f'{type(229)} (print a type)')"
   ]
  },
  {
   "cell_type": "markdown",
   "metadata": {},
   "source": [
    "For reference, here is how people used to do things. Or you want more control."
   ]
  },
  {
   "cell_type": "code",
   "execution_count": null,
   "metadata": {},
   "outputs": [],
   "source": [
    "print('Old school formatting: {2}, {1}, {0:10.2F}'.format(1.358, 'b', 'c'))\n",
    "# Fill in order of 2, 1, 0. For the decimal number, fix at length of 10, round to 2 decimal places"
   ]
  },
  {
   "cell_type": "markdown",
   "metadata": {},
   "source": [
    "### List\n",
    "In general, data structure documentations can be found [here](https://docs.python.org/3/tutorial/datastructures.html)"
   ]
  },
  {
   "cell_type": "code",
   "execution_count": 16,
   "metadata": {
    "ExecuteTime": {
     "end_time": "2023-10-19T18:12:42.571626244Z",
     "start_time": "2023-10-19T18:12:42.518486559Z"
    }
   },
   "outputs": [],
   "source": [
    "list_1 = ['one', 'two', 'three']\n",
    "list_2 = [1, 2, 3]"
   ]
  },
  {
   "cell_type": "code",
   "execution_count": 17,
   "metadata": {
    "ExecuteTime": {
     "end_time": "2023-10-19T18:12:43.827210835Z",
     "start_time": "2023-10-19T18:12:43.767674794Z"
    }
   },
   "outputs": [
    {
     "name": "stdout",
     "output_type": "stream",
     "text": [
      "['one', 'two', 'three']\n",
      "[1, 2, 3]\n"
     ]
    }
   ],
   "source": [
    "print(list_1)\n",
    "print(list_2)"
   ]
  },
  {
   "cell_type": "code",
   "execution_count": 18,
   "metadata": {
    "ExecuteTime": {
     "end_time": "2023-10-19T18:12:44.415739109Z",
     "start_time": "2023-10-19T18:12:44.362196061Z"
    }
   },
   "outputs": [],
   "source": [
    "list_2.append(4)"
   ]
  },
  {
   "cell_type": "code",
   "execution_count": 19,
   "metadata": {
    "ExecuteTime": {
     "end_time": "2023-10-19T18:12:44.863380006Z",
     "start_time": "2023-10-19T18:12:44.808126876Z"
    }
   },
   "outputs": [
    {
     "data": {
      "text/plain": "[1, 2, 3, 4]"
     },
     "execution_count": 19,
     "metadata": {},
     "output_type": "execute_result"
    }
   ],
   "source": [
    "list_2"
   ]
  },
  {
   "cell_type": "code",
   "execution_count": 20,
   "metadata": {
    "ExecuteTime": {
     "end_time": "2023-10-19T18:12:45.775288239Z",
     "start_time": "2023-10-19T18:12:45.722000885Z"
    }
   },
   "outputs": [],
   "source": [
    "list_2.insert(0, 'ZERO')"
   ]
  },
  {
   "cell_type": "code",
   "execution_count": 21,
   "metadata": {
    "ExecuteTime": {
     "end_time": "2023-10-19T18:12:47.052242522Z",
     "start_time": "2023-10-19T18:12:46.962879881Z"
    }
   },
   "outputs": [
    {
     "data": {
      "text/plain": "['ZERO', 1, 2, 3, 4]"
     },
     "execution_count": 21,
     "metadata": {},
     "output_type": "execute_result"
    }
   ],
   "source": [
    "list_2 # if you go back to the previous cell and run print(list_2) again, what will you see?"
   ]
  },
  {
   "cell_type": "markdown",
   "metadata": {},
   "source": [
    "List extension is just addition"
   ]
  },
  {
   "cell_type": "code",
   "execution_count": 22,
   "metadata": {
    "ExecuteTime": {
     "end_time": "2023-10-19T18:12:49.240663178Z",
     "start_time": "2023-10-19T18:12:49.143397776Z"
    }
   },
   "outputs": [
    {
     "name": "stdout",
     "output_type": "stream",
     "text": [
      "['one', 'two', 'three', 'ZERO', 1, 2, 3, 4]\n",
      "['a', 'b', 'ZERO', 1, 2, 3, 4]\n"
     ]
    }
   ],
   "source": [
    "print(list_1 + list_2)\n",
    "\n",
    "list_1_temp = ['a', 'b']\n",
    "list_1_temp.extend(list_2)\n",
    "\n",
    "print(list_1_temp)"
   ]
  },
  {
   "cell_type": "markdown",
   "metadata": {},
   "source": [
    "But be VERY careful when you multiply a list!!"
   ]
  },
  {
   "cell_type": "code",
   "execution_count": 23,
   "metadata": {
    "ExecuteTime": {
     "end_time": "2023-10-19T18:12:51.640030187Z",
     "start_time": "2023-10-19T18:12:51.576005166Z"
    }
   },
   "outputs": [
    {
     "name": "stdout",
     "output_type": "stream",
     "text": [
      "['one', 'two', 'three', 'one', 'two', 'three', 'one', 'two', 'three', 'ZERO', 1, 2, 3, 4]\n",
      "[['one', 'two', 'three'], ['one', 'two', 'three'], ['one', 'two', 'three'], 'ZERO', 1, 2, 3, 4]\n"
     ]
    }
   ],
   "source": [
    "print(list_1 * 3 + list_2)\n",
    "print([list_1] * 3 + list_2)"
   ]
  },
  {
   "cell_type": "markdown",
   "metadata": {},
   "source": [
    "**pprint** is your friend"
   ]
  },
  {
   "cell_type": "code",
   "execution_count": 24,
   "metadata": {
    "ExecuteTime": {
     "end_time": "2023-10-19T18:12:54.524996488Z",
     "start_time": "2023-10-19T18:12:54.374274633Z"
    }
   },
   "outputs": [],
   "source": [
    "import pprint as pp"
   ]
  },
  {
   "cell_type": "code",
   "execution_count": 25,
   "metadata": {
    "ExecuteTime": {
     "end_time": "2023-10-19T18:12:56.015061926Z",
     "start_time": "2023-10-19T18:12:55.931390053Z"
    }
   },
   "outputs": [
    {
     "name": "stdout",
     "output_type": "stream",
     "text": [
      "[['one', 'two', 'three'],\n",
      " ['one', 'two', 'three'],\n",
      " ['one', 'two', 'three'],\n",
      " ['one', 'two', 'three'],\n",
      " ['one', 'two', 'three'],\n",
      " 'ZERO',\n",
      " 1,\n",
      " 2,\n",
      " 3,\n",
      " 4]\n",
      "[['one', 'two', 'three'],\n",
      " ['one', 'two', 'three'],\n",
      " ['ZERO', 1, 2, 3, 4],\n",
      " ['ZERO', 1, 2, 3, 4],\n",
      " ['ZERO', 1, 2, 3, 4]]\n"
     ]
    }
   ],
   "source": [
    "pp.pprint([list_1] * 5 + list_2)\n",
    "pp.pprint([list_1] * 2 + [list_2] * 3)"
   ]
  },
  {
   "cell_type": "markdown",
   "metadata": {},
   "source": [
    "**List comprehension can save a lot of lines**"
   ]
  },
  {
   "cell_type": "code",
   "execution_count": 26,
   "metadata": {
    "ExecuteTime": {
     "end_time": "2023-10-19T18:13:20.562915956Z",
     "start_time": "2023-10-19T18:13:20.477149113Z"
    }
   },
   "outputs": [
    {
     "name": "stdout",
     "output_type": "stream",
     "text": [
      "[0, 1, 2, 3, 4, 5, 6, 7, 8]\n",
      "[(0, 0),\n",
      " (0, 1),\n",
      " (0, 2),\n",
      " (0, 3),\n",
      " (0, 4),\n",
      " (1, 0),\n",
      " (1, 1),\n",
      " (1, 2),\n",
      " (1, 3),\n",
      " (1, 4),\n",
      " (2, 0),\n",
      " (2, 1),\n",
      " (2, 2),\n",
      " (2, 3),\n",
      " (2, 4)]\n",
      "[[0, 1, 2], [0, 1, 2], [0, 1, 2], [0, 1, 2], [0, 1, 2]]\n"
     ]
    }
   ],
   "source": [
    "long_list = [i for i in range(9)]\n",
    "long_long_list = [(i, j) for i in range(3) for j in range(5)]\n",
    "long_list_list = [[i for i in range(3)] for _ in range(5)]\n",
    "\n",
    "pp.pprint(long_list)\n",
    "pp.pprint(long_long_list)\n",
    "pp.pprint(long_list_list)"
   ]
  },
  {
   "cell_type": "markdown",
   "metadata": {},
   "source": [
    "List is **iterable**!"
   ]
  },
  {
   "cell_type": "code",
   "execution_count": 27,
   "metadata": {
    "ExecuteTime": {
     "end_time": "2023-10-19T18:14:15.140684511Z",
     "start_time": "2023-10-19T18:14:15.060001373Z"
    }
   },
   "outputs": [],
   "source": [
    "string_list = ['a', 'b', 'c']"
   ]
  },
  {
   "cell_type": "code",
   "execution_count": 28,
   "metadata": {
    "ExecuteTime": {
     "end_time": "2023-10-19T18:14:16.165864829Z",
     "start_time": "2023-10-19T18:14:16.112249104Z"
    }
   },
   "outputs": [
    {
     "name": "stdout",
     "output_type": "stream",
     "text": [
      "a\n",
      "b\n",
      "c\n"
     ]
    }
   ],
   "source": [
    "for s in string_list:\n",
    "    print(s)"
   ]
  },
  {
   "cell_type": "code",
   "execution_count": 29,
   "metadata": {
    "ExecuteTime": {
     "end_time": "2023-10-19T18:14:21.815331965Z",
     "start_time": "2023-10-19T18:14:21.730624585Z"
    }
   },
   "outputs": [
    {
     "name": "stdout",
     "output_type": "stream",
     "text": [
      "0, a\n",
      "1, b\n",
      "2, c\n"
     ]
    }
   ],
   "source": [
    "for i, s in enumerate(string_list):\n",
    "    print(f'{i}, {s}')"
   ]
  },
  {
   "cell_type": "markdown",
   "metadata": {},
   "source": [
    "Slicing. With numpy array (covered layter), you can do this to multi-dimensional ones as well."
   ]
  },
  {
   "cell_type": "code",
   "execution_count": 30,
   "metadata": {
    "ExecuteTime": {
     "end_time": "2023-10-19T18:14:35.209834071Z",
     "start_time": "2023-10-19T18:14:35.083874465Z"
    }
   },
   "outputs": [
    {
     "name": "stdout",
     "output_type": "stream",
     "text": [
      "[0, 1, 2, 3, 4]\n",
      "[0, 1, 2, 3, 4, 5, 6, 7]\n",
      "[4, 5, 6, 7]\n",
      "[0, 1, 2, -1, -2, 5, 6, 7, 8]\n",
      "[0, 1, 2, -1, -2, 5, 6, 7]\n"
     ]
    }
   ],
   "source": [
    "print(long_list[:5])\n",
    "print(long_list[:-1])\n",
    "print(long_list[4:-1])\n",
    "\n",
    "long_list[3:5] = [-1, -2]\n",
    "print(long_list)\n",
    "\n",
    "long_list.pop()\n",
    "print(long_list)"
   ]
  },
  {
   "cell_type": "markdown",
   "metadata": {},
   "source": [
    "Sorting a list (but remember that sorting can be costly). Documentation for sorting is [here](https://docs.python.org/3/howto/sorting.html)"
   ]
  },
  {
   "cell_type": "code",
   "execution_count": 31,
   "metadata": {
    "ExecuteTime": {
     "end_time": "2023-10-19T18:14:44.010237228Z",
     "start_time": "2023-10-19T18:14:43.919443699Z"
    }
   },
   "outputs": [
    {
     "name": "stdout",
     "output_type": "stream",
     "text": [
      "[2, 3, 5, 6, 8, 12]\n",
      "[(5, 'a'), (8, 'c'), (6, 'e'), (2, 'g'), (12, 'r'), (3, 'z')]\n"
     ]
    }
   ],
   "source": [
    "random_list = [3, 12, 5, 6, 8, 2]\n",
    "print(sorted(random_list))\n",
    "\n",
    "random_list_2 = [(3, 'z'), (12, 'r'), (5, 'a'), (6, 'e'), (8, 'c'), (2, 'g')]\n",
    "print(sorted(random_list_2, key=lambda x: x[1])) # sorting using 2nd variable in tuple"
   ]
  },
  {
   "cell_type": "markdown",
   "metadata": {},
   "source": [
    "**Think first before copying** Copy by reference not by value. More about copying [here](https://docs.python.org/3/library/copy.html)"
   ]
  },
  {
   "cell_type": "code",
   "execution_count": 32,
   "metadata": {
    "ExecuteTime": {
     "end_time": "2023-10-19T18:14:47.076849750Z",
     "start_time": "2023-10-19T18:14:47.019179194Z"
    }
   },
   "outputs": [
    {
     "name": "stdout",
     "output_type": "stream",
     "text": [
      "[[1, 'okay'], [3, 4]]\n",
      "[[1, 'okay'], [3, 4]]\n"
     ]
    }
   ],
   "source": [
    "orig_list = [[1, 2], [3, 4]]\n",
    "dup_list = orig_list\n",
    "\n",
    "dup_list[0][1] = 'okay'\n",
    "pp.pprint(orig_list)\n",
    "pp.pprint(dup_list)"
   ]
  },
  {
   "cell_type": "code",
   "execution_count": 33,
   "metadata": {
    "ExecuteTime": {
     "end_time": "2023-10-19T18:14:49.765278670Z",
     "start_time": "2023-10-19T18:14:49.704999081Z"
    }
   },
   "outputs": [
    {
     "name": "stdout",
     "output_type": "stream",
     "text": [
      "[[1, 4, 3], [1, 4, 3], [1, 4, 3]]\n",
      "[[1, 4, 3], [1, 2, 3], [1, 2, 3]]\n"
     ]
    }
   ],
   "source": [
    "a = [[1, 2, 3]]*3\n",
    "b = [[1, 2, 3] for i in range(3)]\n",
    "a[0][1] = 4\n",
    "b[0][1] = 4\n",
    "print(a)\n",
    "print(b)"
   ]
  },
  {
   "cell_type": "code",
   "execution_count": 34,
   "metadata": {
    "ExecuteTime": {
     "end_time": "2023-10-19T18:14:51.017096453Z",
     "start_time": "2023-10-19T18:14:50.952139933Z"
    }
   },
   "outputs": [],
   "source": [
    "import copy"
   ]
  },
  {
   "cell_type": "code",
   "execution_count": 35,
   "metadata": {
    "ExecuteTime": {
     "end_time": "2023-10-19T18:14:51.787206696Z",
     "start_time": "2023-10-19T18:14:51.699001113Z"
    }
   },
   "outputs": [
    {
     "name": "stdout",
     "output_type": "stream",
     "text": [
      "[[1, 2], [3, 4]]\n",
      "[[1, 'okay'], [3, 4]]\n"
     ]
    }
   ],
   "source": [
    "orig_list = [[1, 2], [3, 4]]\n",
    "dup_list = copy.deepcopy(orig_list)\n",
    "\n",
    "dup_list[0][1] = 'okay'\n",
    "pp.pprint(orig_list)\n",
    "pp.pprint(dup_list)"
   ]
  },
  {
   "cell_type": "markdown",
   "metadata": {},
   "source": [
    "### Tuple\n",
    "\n",
    "List that you **cannot** edit."
   ]
  },
  {
   "cell_type": "code",
   "execution_count": 36,
   "metadata": {
    "ExecuteTime": {
     "end_time": "2023-10-19T18:14:55.940366724Z",
     "start_time": "2023-10-19T18:14:55.802198325Z"
    }
   },
   "outputs": [
    {
     "ename": "TypeError",
     "evalue": "'tuple' object does not support item assignment",
     "output_type": "error",
     "traceback": [
      "\u001B[0;31m---------------------------------------------------------------------------\u001B[0m",
      "\u001B[0;31mTypeError\u001B[0m                                 Traceback (most recent call last)",
      "Cell \u001B[0;32mIn[36], line 2\u001B[0m\n\u001B[1;32m      1\u001B[0m my_tuple \u001B[38;5;241m=\u001B[39m (\u001B[38;5;241m10\u001B[39m, \u001B[38;5;241m20\u001B[39m, \u001B[38;5;241m30\u001B[39m)\n\u001B[0;32m----> 2\u001B[0m \u001B[43mmy_tuple\u001B[49m\u001B[43m[\u001B[49m\u001B[38;5;241;43m0\u001B[39;49m\u001B[43m]\u001B[49m \u001B[38;5;241m=\u001B[39m \u001B[38;5;241m40\u001B[39m\n",
      "\u001B[0;31mTypeError\u001B[0m: 'tuple' object does not support item assignment"
     ]
    }
   ],
   "source": [
    "my_tuple = (10, 20, 30)\n",
    "my_tuple[0] = 40"
   ]
  },
  {
   "cell_type": "markdown",
   "metadata": {},
   "source": [
    "Split assignment makes your code shorter (also works for list)."
   ]
  },
  {
   "cell_type": "code",
   "execution_count": 37,
   "metadata": {
    "ExecuteTime": {
     "end_time": "2023-10-19T18:15:04.311074876Z",
     "start_time": "2023-10-19T18:15:04.224254869Z"
    }
   },
   "outputs": [
    {
     "name": "stdout",
     "output_type": "stream",
     "text": [
      "a=10, b=20, c=30\n",
      "(0, 10)\n",
      "(1, 20)\n",
      "(2, 30)\n"
     ]
    }
   ],
   "source": [
    "a, b, c = my_tuple\n",
    "print(f\"a={a}, b={b}, c={c}\")\n",
    "for obj in enumerate(my_tuple):\n",
    "    print(obj)"
   ]
  },
  {
   "cell_type": "markdown",
   "metadata": {},
   "source": [
    "### Dictionary/Set\n",
    "\n",
    "Again, documentation for data structure is [here](https://docs.python.org/3/tutorial/datastructures.html)"
   ]
  },
  {
   "cell_type": "code",
   "execution_count": 38,
   "metadata": {
    "ExecuteTime": {
     "end_time": "2023-10-19T18:15:32.751521973Z",
     "start_time": "2023-10-19T18:15:32.696489189Z"
    }
   },
   "outputs": [
    {
     "name": "stdout",
     "output_type": "stream",
     "text": [
      "{0, 1, 64, 4, 36, 9, 16, 49, 81, 25}\n"
     ]
    }
   ],
   "source": [
    "my_set = {i ** 2 for i in range(10)}\n",
    "print(my_set)\n",
    "\n",
    "# unordered, unique"
   ]
  },
  {
   "cell_type": "code",
   "execution_count": 39,
   "metadata": {
    "ExecuteTime": {
     "end_time": "2023-10-19T18:15:35.252105483Z",
     "start_time": "2023-10-19T18:15:35.200393545Z"
    }
   },
   "outputs": [
    {
     "name": "stdout",
     "output_type": "stream",
     "text": [
      "{0, 1, 4}\n"
     ]
    }
   ],
   "source": [
    "my_set_temp = {i ** 2 % 5 for i in range(10)}\n",
    "print(my_set_temp)"
   ]
  },
  {
   "cell_type": "code",
   "execution_count": 40,
   "metadata": {
    "ExecuteTime": {
     "end_time": "2023-10-19T18:15:36.154048544Z",
     "start_time": "2023-10-19T18:15:36.064664777Z"
    }
   },
   "outputs": [
    {
     "name": "stdout",
     "output_type": "stream",
     "text": [
      "{5: 0, 4: 1, 3: 4, 2: 9, 1: 16, 0: 25, -1: 36, -2: 49, -3: 64, -4: 81}\n",
      "dict_keys([5, 4, 3, 2, 1, 0, -1, -2, -3, -4])\n"
     ]
    }
   ],
   "source": [
    "my_dict = {(5 - i): i ** 2 for i in range(10)}\n",
    "\n",
    "print(my_dict)\n",
    "print(my_dict.keys())"
   ]
  },
  {
   "cell_type": "markdown",
   "metadata": {},
   "source": [
    "Updating and/or addint content to a dictionary"
   ]
  },
  {
   "cell_type": "code",
   "execution_count": 41,
   "metadata": {
    "ExecuteTime": {
     "end_time": "2023-10-19T18:15:38.960545788Z",
     "start_time": "2023-10-19T18:15:38.906062403Z"
    }
   },
   "outputs": [
    {
     "name": "stdout",
     "output_type": "stream",
     "text": [
      "{-4: 81,\n",
      " -3: 64,\n",
      " -2: 49,\n",
      " -1: 36,\n",
      " 0: 25,\n",
      " 1: 16,\n",
      " 2: 9,\n",
      " 3: 4,\n",
      " 4: 1,\n",
      " 5: 0,\n",
      " 'a': 10,\n",
      " 'b': 11}\n"
     ]
    }
   ],
   "source": [
    "second_dict = {'a': 10, 'b': 11}\n",
    "my_dict.update(second_dict)\n",
    "\n",
    "pp.pprint(my_dict)"
   ]
  },
  {
   "cell_type": "code",
   "execution_count": 42,
   "metadata": {
    "ExecuteTime": {
     "end_time": "2023-10-19T18:15:40.492687957Z",
     "start_time": "2023-10-19T18:15:40.410250430Z"
    }
   },
   "outputs": [
    {
     "name": "stdout",
     "output_type": "stream",
     "text": [
      "{-4: 81,\n",
      " -3: 64,\n",
      " -2: 49,\n",
      " -1: 36,\n",
      " 0: 25,\n",
      " 1: 16,\n",
      " 2: 9,\n",
      " 3: 4,\n",
      " 4: 1,\n",
      " 5: 0,\n",
      " 'a': 10,\n",
      " 'b': 11,\n",
      " 'new': 10}\n"
     ]
    }
   ],
   "source": [
    "my_dict['new'] = 10\n",
    "pp.pprint(my_dict)"
   ]
  },
  {
   "cell_type": "markdown",
   "metadata": {},
   "source": [
    "Here is how to iterate through a dictionary. And remember that dictionary is NOT sorted by key value. "
   ]
  },
  {
   "cell_type": "code",
   "execution_count": 43,
   "metadata": {
    "ExecuteTime": {
     "end_time": "2023-10-19T18:16:12.198143093Z",
     "start_time": "2023-10-19T18:16:12.117219843Z"
    }
   },
   "outputs": [
    {
     "name": "stdout",
     "output_type": "stream",
     "text": [
      "5 0\n",
      "4 1\n",
      "3 4\n",
      "2 9\n",
      "1 16\n",
      "0 25\n",
      "-1 36\n",
      "-2 49\n",
      "-3 64\n",
      "-4 81\n",
      "a 10\n",
      "b 11\n",
      "new 10\n"
     ]
    }
   ],
   "source": [
    "for k, it in my_dict.items(): # similar to for loop over enumerate(list)\n",
    "    print(k, it)"
   ]
  },
  {
   "cell_type": "code",
   "execution_count": 44,
   "metadata": {
    "ExecuteTime": {
     "end_time": "2023-10-19T18:16:13.182426233Z",
     "start_time": "2023-10-19T18:16:13.098033211Z"
    }
   },
   "outputs": [
    {
     "name": "stdout",
     "output_type": "stream",
     "text": [
      "-1 36\n",
      "-2 49\n",
      "-3 64\n",
      "-4 81\n",
      "0 25\n",
      "1 16\n",
      "2 9\n",
      "3 4\n",
      "4 1\n",
      "5 0\n",
      "a 10\n",
      "b 11\n",
      "new 10\n"
     ]
    }
   ],
   "source": [
    "# Sorting keys by string order\n",
    "for k, it in sorted(my_dict.items(), key=lambda x: str(x[0])):\n",
    "    print(k, it)"
   ]
  },
  {
   "cell_type": "markdown",
   "metadata": {},
   "source": [
    "For *defaultdict* and sorted dictionary, see the [collections documentation](https://docs.python.org/3/library/collections.html)"
   ]
  },
  {
   "cell_type": "markdown",
   "metadata": {},
   "source": [
    "## Numpy\n",
    "\n",
    "[Numpy](https://numpy.org/) is a nice vector and matrix manipulation package."
   ]
  },
  {
   "cell_type": "code",
   "execution_count": 45,
   "metadata": {
    "ExecuteTime": {
     "end_time": "2023-10-19T18:16:17.332368118Z",
     "start_time": "2023-10-19T18:16:17.163127978Z"
    }
   },
   "outputs": [],
   "source": [
    "import numpy as np"
   ]
  },
  {
   "cell_type": "markdown",
   "metadata": {},
   "source": [
    "### Array initialization\n",
    "\n",
    "Initialize from existing list. If type is not consistent, numpy will give you weird result."
   ]
  },
  {
   "cell_type": "code",
   "execution_count": 46,
   "metadata": {
    "ExecuteTime": {
     "end_time": "2023-10-19T18:16:19.992164445Z",
     "start_time": "2023-10-19T18:16:19.937730514Z"
    }
   },
   "outputs": [
    {
     "name": "stdout",
     "output_type": "stream",
     "text": [
      "array([1, 2, 3])\n",
      "\t Data type of integer is int64\n"
     ]
    }
   ],
   "source": [
    "from_list = np.array([1, 2, 3])                              \n",
    "pp.pprint(from_list)\n",
    "print(f'\\t Data type of integer is {from_list.dtype}')"
   ]
  },
  {
   "cell_type": "code",
   "execution_count": 47,
   "metadata": {
    "ExecuteTime": {
     "end_time": "2023-10-19T18:16:25.058309619Z",
     "start_time": "2023-10-19T18:16:24.999752719Z"
    }
   },
   "outputs": [
    {
     "name": "stdout",
     "output_type": "stream",
     "text": [
      "array([[1., 2., 3.],\n",
      "       [4., 5., 6.]])\n",
      "\t Data type of float is float64\n"
     ]
    }
   ],
   "source": [
    "from_list_2d = np.array([[1, 2, 3.0], [4, 5, 6]])\n",
    "pp.pprint(from_list_2d)\n",
    "print(f'\\t Data type of float is {from_list_2d.dtype}')"
   ]
  },
  {
   "cell_type": "code",
   "execution_count": 48,
   "metadata": {
    "ExecuteTime": {
     "end_time": "2023-10-19T18:16:25.826804552Z",
     "start_time": "2023-10-19T18:16:25.736851038Z"
    }
   },
   "outputs": [
    {
     "name": "stdout",
     "output_type": "stream",
     "text": [
      "array(['1', '2', '3', 'a'], dtype='<U21')\n"
     ]
    }
   ],
   "source": [
    "from_list_bad_type = np.array([1, 2, 3, 'a'])\n",
    "pp.pprint(from_list_bad_type)"
   ]
  },
  {
   "cell_type": "markdown",
   "metadata": {},
   "source": [
    "Initialize with ones, zeros, or as identity matrix"
   ]
  },
  {
   "cell_type": "code",
   "execution_count": 49,
   "metadata": {
    "ExecuteTime": {
     "end_time": "2023-10-19T18:16:39.746340914Z",
     "start_time": "2023-10-19T18:16:39.689753449Z"
    }
   },
   "outputs": [
    {
     "name": "stdout",
     "output_type": "stream",
     "text": [
      "[1. 1. 1.]\n"
     ]
    }
   ],
   "source": [
    "print(np.ones(3))"
   ]
  },
  {
   "cell_type": "code",
   "execution_count": 50,
   "metadata": {
    "ExecuteTime": {
     "end_time": "2023-10-19T18:16:42.024272098Z",
     "start_time": "2023-10-19T18:16:41.970532446Z"
    }
   },
   "outputs": [
    {
     "name": "stdout",
     "output_type": "stream",
     "text": [
      "[[1. 1. 1.]\n",
      " [1. 1. 1.]\n",
      " [1. 1. 1.]]\n"
     ]
    }
   ],
   "source": [
    "print(np.ones((3, 3)))"
   ]
  },
  {
   "cell_type": "code",
   "execution_count": 51,
   "metadata": {
    "ExecuteTime": {
     "end_time": "2023-10-19T18:16:49.891294309Z",
     "start_time": "2023-10-19T18:16:49.837567285Z"
    }
   },
   "outputs": [
    {
     "name": "stdout",
     "output_type": "stream",
     "text": [
      "[0. 0. 0.]\n"
     ]
    }
   ],
   "source": [
    "print(np.zeros(3))"
   ]
  },
  {
   "cell_type": "code",
   "execution_count": 52,
   "metadata": {
    "ExecuteTime": {
     "end_time": "2023-10-19T18:16:51.419778436Z",
     "start_time": "2023-10-19T18:16:51.367103956Z"
    }
   },
   "outputs": [
    {
     "name": "stdout",
     "output_type": "stream",
     "text": [
      "[[0. 0. 0.]\n",
      " [0. 0. 0.]\n",
      " [0. 0. 0.]]\n"
     ]
    }
   ],
   "source": [
    "print(np.zeros((3, 3)))"
   ]
  },
  {
   "cell_type": "code",
   "execution_count": 53,
   "metadata": {
    "ExecuteTime": {
     "end_time": "2023-10-19T18:16:52.940485382Z",
     "start_time": "2023-10-19T18:16:52.837653152Z"
    }
   },
   "outputs": [
    {
     "name": "stdout",
     "output_type": "stream",
     "text": [
      "[[1. 0. 0.]\n",
      " [0. 1. 0.]\n",
      " [0. 0. 1.]]\n"
     ]
    }
   ],
   "source": [
    "print(np.eye(3))"
   ]
  },
  {
   "cell_type": "markdown",
   "metadata": {},
   "source": [
    "Sampling over uniform distribution on $[0, 1)$."
   ]
  },
  {
   "cell_type": "code",
   "execution_count": 54,
   "metadata": {
    "ExecuteTime": {
     "end_time": "2023-10-19T18:16:58.992043788Z",
     "start_time": "2023-10-19T18:16:58.935107335Z"
    }
   },
   "outputs": [
    {
     "name": "stdout",
     "output_type": "stream",
     "text": [
      "[0.47444764 0.91303357 0.7547213 ]\n"
     ]
    }
   ],
   "source": [
    "print(np.random.random(3))"
   ]
  },
  {
   "cell_type": "code",
   "execution_count": 55,
   "metadata": {
    "ExecuteTime": {
     "end_time": "2023-10-19T18:17:00.625485430Z",
     "start_time": "2023-10-19T18:17:00.540847238Z"
    }
   },
   "outputs": [
    {
     "name": "stdout",
     "output_type": "stream",
     "text": [
      "[[0.67196401 0.66044167]\n",
      " [0.23687482 0.39687012]]\n"
     ]
    }
   ],
   "source": [
    "print(np.random.random((2, 2)))"
   ]
  },
  {
   "cell_type": "markdown",
   "metadata": {},
   "source": [
    "Sampling over standard normal distribution."
   ]
  },
  {
   "cell_type": "code",
   "execution_count": 56,
   "metadata": {
    "ExecuteTime": {
     "end_time": "2023-10-19T18:17:05.951762465Z",
     "start_time": "2023-10-19T18:17:05.864941465Z"
    }
   },
   "outputs": [
    {
     "name": "stdout",
     "output_type": "stream",
     "text": [
      "[[ 0.05265363  0.74147906 -0.60660727]\n",
      " [-0.7664611  -0.15776956 -0.64563863]\n",
      " [ 0.01502445 -0.75701246  0.56424037]]\n"
     ]
    }
   ],
   "source": [
    "print(np.random.randn(3, 3))"
   ]
  },
  {
   "cell_type": "markdown",
   "metadata": {},
   "source": [
    "Numpy has built-in samplers of a lot of other common (and some not so common) distributions."
   ]
  },
  {
   "cell_type": "markdown",
   "metadata": {},
   "source": [
    "### Array shape\n",
    "\n",
    "Shape/reshape and multi-dimensional arrays"
   ]
  },
  {
   "cell_type": "code",
   "execution_count": 57,
   "metadata": {
    "ExecuteTime": {
     "end_time": "2023-10-19T18:17:12.596004453Z",
     "start_time": "2023-10-19T18:17:12.540285063Z"
    }
   },
   "outputs": [
    {
     "name": "stdout",
     "output_type": "stream",
     "text": [
      "(4,)\n",
      "(1, 4)\n",
      "(1, 4)\n",
      "8\n"
     ]
    }
   ],
   "source": [
    "array_1d = np.array([1, 2, 3, 4])\n",
    "array_1by4 = np.array([[1, 2, 3, 4]])\n",
    "array_2by4 = np.array([[1, 2, 3, 4], [5, 6, 7, 8]])\n",
    "\n",
    "print(array_1d.shape)\n",
    "print(array_1by4.shape)\n",
    "\n",
    "print(array_1d.reshape(-1, 4).shape)\n",
    "\n",
    "print(array_2by4.size) # projects: pytorch -- size similar to numpy shape"
   ]
  },
  {
   "cell_type": "code",
   "execution_count": 58,
   "metadata": {
    "ExecuteTime": {
     "end_time": "2023-10-19T18:19:55.309526056Z",
     "start_time": "2023-10-19T18:19:55.212727562Z"
    }
   },
   "outputs": [
    {
     "name": "stdout",
     "output_type": "stream",
     "text": [
      "[  5  25  45  65  85 105 125 145 165 185 205 225 245 265 285 305 325 345\n",
      " 365 385]\n"
     ]
    }
   ],
   "source": [
    "large_array = np.array([i for i in range(400)])\n",
    "large_array = large_array.reshape((20, 20))\n",
    "\n",
    "print(large_array[:, 5])"
   ]
  },
  {
   "cell_type": "code",
   "execution_count": 59,
   "metadata": {
    "ExecuteTime": {
     "end_time": "2023-10-19T18:20:16.220089340Z",
     "start_time": "2023-10-19T18:20:16.162847522Z"
    }
   },
   "outputs": [],
   "source": [
    "large_3d_array = np.array([i for i in range(1000)])\n",
    "large_3d_array = large_3d_array.reshape((10, 10, 10))"
   ]
  },
  {
   "cell_type": "code",
   "execution_count": 60,
   "metadata": {
    "ExecuteTime": {
     "end_time": "2023-10-19T18:20:17.873268514Z",
     "start_time": "2023-10-19T18:20:17.819301247Z"
    }
   },
   "outputs": [
    {
     "name": "stdout",
     "output_type": "stream",
     "text": [
      "[ 11 111 211 311 411 511 611 711 811 911]\n"
     ]
    }
   ],
   "source": [
    "print(large_3d_array[:, 1, 1])"
   ]
  },
  {
   "cell_type": "code",
   "execution_count": 61,
   "metadata": {
    "ExecuteTime": {
     "end_time": "2023-10-19T18:20:18.835062483Z",
     "start_time": "2023-10-19T18:20:18.780292569Z"
    }
   },
   "outputs": [
    {
     "name": "stdout",
     "output_type": "stream",
     "text": [
      "[201 211 221 231 241 251 261 271 281 291]\n"
     ]
    }
   ],
   "source": [
    "print(large_3d_array[2, :, 1])"
   ]
  },
  {
   "cell_type": "code",
   "execution_count": 62,
   "metadata": {
    "ExecuteTime": {
     "end_time": "2023-10-19T18:20:20.392734530Z",
     "start_time": "2023-10-19T18:20:20.321283826Z"
    }
   },
   "outputs": [
    {
     "name": "stdout",
     "output_type": "stream",
     "text": [
      "[230 231 232 233 234 235 236 237 238 239]\n"
     ]
    }
   ],
   "source": [
    "print(large_3d_array[2, 3, :])"
   ]
  },
  {
   "cell_type": "code",
   "execution_count": 63,
   "metadata": {
    "ExecuteTime": {
     "end_time": "2023-10-19T18:20:21.056636500Z",
     "start_time": "2023-10-19T18:20:20.972256455Z"
    }
   },
   "outputs": [
    {
     "name": "stdout",
     "output_type": "stream",
     "text": [
      "[[100 101 102 103 104 105 106 107 108 109]\n",
      " [110 111 112 113 114 115 116 117 118 119]\n",
      " [120 121 122 123 124 125 126 127 128 129]\n",
      " [130 131 132 133 134 135 136 137 138 139]\n",
      " [140 141 142 143 144 145 146 147 148 149]\n",
      " [150 151 152 153 154 155 156 157 158 159]\n",
      " [160 161 162 163 164 165 166 167 168 169]\n",
      " [170 171 172 173 174 175 176 177 178 179]\n",
      " [180 181 182 183 184 185 186 187 188 189]\n",
      " [190 191 192 193 194 195 196 197 198 199]]\n"
     ]
    }
   ],
   "source": [
    "print(large_3d_array[1, :, :])"
   ]
  },
  {
   "cell_type": "markdown",
   "metadata": {},
   "source": [
    "Think about the **order** you need before using reshape."
   ]
  },
  {
   "cell_type": "code",
   "execution_count": 64,
   "metadata": {
    "ExecuteTime": {
     "end_time": "2023-10-19T18:20:28.613063431Z",
     "start_time": "2023-10-19T18:20:28.528703700Z"
    }
   },
   "outputs": [],
   "source": [
    "small_array = np.arange(4)"
   ]
  },
  {
   "cell_type": "code",
   "execution_count": 65,
   "metadata": {
    "ExecuteTime": {
     "end_time": "2023-10-19T18:20:29.350549037Z",
     "start_time": "2023-10-19T18:20:29.297519352Z"
    }
   },
   "outputs": [
    {
     "name": "stdout",
     "output_type": "stream",
     "text": [
      "[[0 1]\n",
      " [2 3]]\n"
     ]
    }
   ],
   "source": [
    "print(np.reshape(small_array, (2, 2), order='C')) # Default order"
   ]
  },
  {
   "cell_type": "code",
   "execution_count": 66,
   "metadata": {
    "ExecuteTime": {
     "end_time": "2023-10-19T18:20:29.589299427Z",
     "start_time": "2023-10-19T18:20:29.501105788Z"
    }
   },
   "outputs": [
    {
     "name": "stdout",
     "output_type": "stream",
     "text": [
      "[[0 2]\n",
      " [1 3]]\n"
     ]
    }
   ],
   "source": [
    "print(np.reshape(small_array, (2, 2), order='F'))"
   ]
  },
  {
   "cell_type": "markdown",
   "metadata": {},
   "source": [
    "### Numpy math\n",
    "\n",
    "This also works for sin, cos, tanh, etc."
   ]
  },
  {
   "cell_type": "code",
   "execution_count": 67,
   "metadata": {
    "ExecuteTime": {
     "end_time": "2023-10-19T18:20:35.142304831Z",
     "start_time": "2023-10-19T18:20:35.059344834Z"
    }
   },
   "outputs": [
    {
     "name": "stdout",
     "output_type": "stream",
     "text": [
      "[6 7 8 9]\n",
      "[ 5 10 15 20]\n",
      "[1.         1.41421356 1.73205081 2.        ]\n",
      "[ 1  4  9 16]\n",
      "[ 2.71828183  7.3890561  20.08553692 54.59815003]\n",
      "[0.         0.69314718 1.09861229 1.38629436]\n"
     ]
    }
   ],
   "source": [
    "array_1 = np.array([1, 2, 3, 4])\n",
    "\n",
    "# element wise operations!!\n",
    "\n",
    "print(array_1 + 5)\n",
    "print(array_1 * 5)\n",
    "print(np.sqrt(array_1))\n",
    "print(np.power(array_1, 2))\n",
    "print(np.exp(array_1))\n",
    "print(np.log(array_1))"
   ]
  },
  {
   "cell_type": "markdown",
   "metadata": {},
   "source": [
    "For sum, mean, avg, std, var, etc, you can perform the operation on set axis."
   ]
  },
  {
   "cell_type": "code",
   "execution_count": 68,
   "metadata": {
    "ExecuteTime": {
     "end_time": "2023-10-19T18:20:39.130690459Z",
     "start_time": "2023-10-19T18:20:39.066485214Z"
    }
   },
   "outputs": [
    {
     "name": "stdout",
     "output_type": "stream",
     "text": [
      "array([[1, 2, 3],\n",
      "       [4, 5, 6],\n",
      "       [7, 8, 9]])\n",
      "shape=(3, 3)\n",
      "45\n",
      "[12 15 18]\n",
      "[ 6 15 24]\n"
     ]
    }
   ],
   "source": [
    "array_2d = np.array([[1, 2, 3], [4, 5, 6], [7, 8, 9]])\n",
    "\n",
    "pp.pprint(array_2d)\n",
    "print(f'shape={array_2d.shape}')\n",
    "print(np.sum(array_2d))\n",
    "print(np.sum(array_2d, axis=0))\n",
    "print(np.sum(array_2d, axis=1))"
   ]
  },
  {
   "cell_type": "code",
   "execution_count": 69,
   "metadata": {
    "ExecuteTime": {
     "end_time": "2023-10-19T18:20:39.853509335Z",
     "start_time": "2023-10-19T18:20:39.755618847Z"
    }
   },
   "outputs": [
    {
     "name": "stdout",
     "output_type": "stream",
     "text": [
      "array([[[0, 1],\n",
      "        [2, 3]],\n",
      "\n",
      "       [[4, 5],\n",
      "        [6, 7]]])\n",
      "[[ 4  6]\n",
      " [ 8 10]]\n",
      "[[ 2  4]\n",
      " [10 12]]\n",
      "[ 6 22]\n"
     ]
    }
   ],
   "source": [
    "array_3d = np.array([i for i in range(8)]).reshape((2, 2, 2))\n",
    "pp.pprint(array_3d)\n",
    "\n",
    "print(np.sum(array_3d, axis=0))\n",
    "print(np.sum(array_3d, axis=1))\n",
    "print(np.sum(array_3d, axis=(1, 2)))"
   ]
  },
  {
   "cell_type": "markdown",
   "metadata": {},
   "source": [
    "Numpy tend to do things element-wise. But be **VERY CAREFUL** when dimensions don't match. We will cover this in broadcasting. Actuall just be careful with dimension of arrays in general."
   ]
  },
  {
   "cell_type": "code",
   "execution_count": 70,
   "metadata": {
    "ExecuteTime": {
     "end_time": "2023-10-19T18:20:41.649542104Z",
     "start_time": "2023-10-19T18:20:41.586666363Z"
    }
   },
   "outputs": [],
   "source": [
    "array_1 = np.array([1, 2, 3, 4])\n",
    "array_2 = np.array([3, 4, 5, 6])"
   ]
  },
  {
   "cell_type": "code",
   "execution_count": 71,
   "metadata": {
    "ExecuteTime": {
     "end_time": "2023-10-19T18:20:42.130130243Z",
     "start_time": "2023-10-19T18:20:42.076033195Z"
    }
   },
   "outputs": [
    {
     "name": "stdout",
     "output_type": "stream",
     "text": [
      "[ 3  8 15 24]\n"
     ]
    }
   ],
   "source": [
    "print(array_1 * array_2) # element wise multiplication"
   ]
  },
  {
   "cell_type": "code",
   "execution_count": 72,
   "metadata": {
    "ExecuteTime": {
     "end_time": "2023-10-19T18:20:43.032408231Z",
     "start_time": "2023-10-19T18:20:42.974540459Z"
    }
   },
   "outputs": [],
   "source": [
    "# same as np.multiply"
   ]
  },
  {
   "cell_type": "code",
   "execution_count": 73,
   "metadata": {
    "ExecuteTime": {
     "end_time": "2023-10-19T18:20:43.485411059Z",
     "start_time": "2023-10-19T18:20:43.422759291Z"
    }
   },
   "outputs": [
    {
     "name": "stdout",
     "output_type": "stream",
     "text": [
      "[ 3  8 15 24]\n"
     ]
    }
   ],
   "source": [
    "print(np.multiply(array_1, array_2))"
   ]
  },
  {
   "cell_type": "code",
   "execution_count": 74,
   "metadata": {
    "ExecuteTime": {
     "end_time": "2023-10-19T18:20:44.106885954Z",
     "start_time": "2023-10-19T18:20:44.047659227Z"
    }
   },
   "outputs": [
    {
     "name": "stdout",
     "output_type": "stream",
     "text": [
      "[[3]\n",
      " [4]\n",
      " [5]\n",
      " [6]]\n"
     ]
    }
   ],
   "source": [
    "print(array_2.reshape(4, -1))"
   ]
  },
  {
   "cell_type": "code",
   "execution_count": 75,
   "metadata": {
    "ExecuteTime": {
     "end_time": "2023-10-19T18:20:44.761080899Z",
     "start_time": "2023-10-19T18:20:44.705601495Z"
    }
   },
   "outputs": [
    {
     "name": "stdout",
     "output_type": "stream",
     "text": [
      "(4,)\n",
      "(4, 1)\n"
     ]
    }
   ],
   "source": [
    "print(array_2.shape)\n",
    "print(array_2.reshape(4, -1).shape)"
   ]
  },
  {
   "cell_type": "code",
   "execution_count": 76,
   "metadata": {
    "ExecuteTime": {
     "end_time": "2023-10-19T18:20:45.717624008Z",
     "start_time": "2023-10-19T18:20:45.637005557Z"
    }
   },
   "outputs": [
    {
     "name": "stdout",
     "output_type": "stream",
     "text": [
      "[[ 3  6  9 12]\n",
      " [ 4  8 12 16]\n",
      " [ 5 10 15 20]\n",
      " [ 6 12 18 24]]\n"
     ]
    }
   ],
   "source": [
    "print(array_1 * array_2.reshape(4, -1)) # Come back to this later"
   ]
  },
  {
   "cell_type": "markdown",
   "metadata": {},
   "source": [
    "Dot product can be done in multiple ways"
   ]
  },
  {
   "cell_type": "code",
   "execution_count": 77,
   "metadata": {
    "ExecuteTime": {
     "end_time": "2023-10-19T18:20:51.747152353Z",
     "start_time": "2023-10-19T18:20:51.642409033Z"
    }
   },
   "outputs": [
    {
     "name": "stdout",
     "output_type": "stream",
     "text": [
      "50\n"
     ]
    }
   ],
   "source": [
    "# element wise multiplication --> sum \n",
    "print(np.sum(array_1 * array_2)) "
   ]
  },
  {
   "cell_type": "code",
   "execution_count": 78,
   "metadata": {
    "ExecuteTime": {
     "end_time": "2023-10-19T18:20:52.511262377Z",
     "start_time": "2023-10-19T18:20:52.458688433Z"
    }
   },
   "outputs": [
    {
     "name": "stdout",
     "output_type": "stream",
     "text": [
      "50\n"
     ]
    }
   ],
   "source": [
    "print(array_1.dot(array_2))"
   ]
  },
  {
   "cell_type": "code",
   "execution_count": 79,
   "metadata": {
    "ExecuteTime": {
     "end_time": "2023-10-19T18:20:54.800969913Z",
     "start_time": "2023-10-19T18:20:54.715516211Z"
    }
   },
   "outputs": [
    {
     "name": "stdout",
     "output_type": "stream",
     "text": [
      "50\n"
     ]
    }
   ],
   "source": [
    "print(np.dot(array_1, array_2))"
   ]
  },
  {
   "cell_type": "code",
   "execution_count": 80,
   "metadata": {
    "ExecuteTime": {
     "end_time": "2023-10-19T18:20:55.445236199Z",
     "start_time": "2023-10-19T18:20:55.378300647Z"
    }
   },
   "outputs": [
    {
     "name": "stdout",
     "output_type": "stream",
     "text": [
      "50\n"
     ]
    }
   ],
   "source": [
    "print(array_1 @ array_2) # equivavlent to np.matmul(array_1, array_2)"
   ]
  },
  {
   "cell_type": "code",
   "execution_count": 81,
   "metadata": {
    "ExecuteTime": {
     "end_time": "2023-10-19T18:20:56.021593122Z",
     "start_time": "2023-10-19T18:20:55.942350872Z"
    }
   },
   "outputs": [
    {
     "name": "stdout",
     "output_type": "stream",
     "text": [
      "(4,)\n"
     ]
    }
   ],
   "source": [
    "print(array_1.shape)"
   ]
  },
  {
   "cell_type": "markdown",
   "metadata": {},
   "source": [
    "Here, you can't dot when the dimensions are incorrect. *But* it did not complain just now. Check the shapes!"
   ]
  },
  {
   "cell_type": "code",
   "execution_count": 82,
   "metadata": {
    "ExecuteTime": {
     "end_time": "2023-10-19T18:20:58.197460089Z",
     "start_time": "2023-10-19T18:20:58.085972405Z"
    }
   },
   "outputs": [
    {
     "name": "stdout",
     "output_type": "stream",
     "text": [
      "(1, 4)\n",
      "(1, 4)\n",
      "[[ 3  8 15 24]]\n"
     ]
    },
    {
     "ename": "ValueError",
     "evalue": "shapes (1,4) and (1,4) not aligned: 4 (dim 1) != 1 (dim 0)",
     "output_type": "error",
     "traceback": [
      "\u001B[0;31m---------------------------------------------------------------------------\u001B[0m",
      "\u001B[0;31mValueError\u001B[0m                                Traceback (most recent call last)",
      "Cell \u001B[0;32mIn[82], line 8\u001B[0m\n\u001B[1;32m      5\u001B[0m \u001B[38;5;28mprint\u001B[39m(array_2\u001B[38;5;241m.\u001B[39mshape)\n\u001B[1;32m      7\u001B[0m \u001B[38;5;28mprint\u001B[39m(array_1 \u001B[38;5;241m*\u001B[39m array_2)\n\u001B[0;32m----> 8\u001B[0m \u001B[38;5;28mprint\u001B[39m(\u001B[43marray_1\u001B[49m\u001B[38;5;241;43m.\u001B[39;49m\u001B[43mdot\u001B[49m\u001B[43m(\u001B[49m\u001B[43marray_2\u001B[49m\u001B[43m)\u001B[49m)\n",
      "\u001B[0;31mValueError\u001B[0m: shapes (1,4) and (1,4) not aligned: 4 (dim 1) != 1 (dim 0)"
     ]
    }
   ],
   "source": [
    "array_1 = np.array([[1, 2, 3, 4]])\n",
    "array_2 = np.array([[3, 4, 5, 6]])\n",
    "\n",
    "print(array_1.shape)\n",
    "print(array_2.shape)\n",
    "\n",
    "print(array_1 * array_2)\n",
    "print(array_1.dot(array_2))"
   ]
  },
  {
   "cell_type": "markdown",
   "metadata": {},
   "source": [
    "With proper handling of shapes, things work. Also, dot is just matrix multiplication. But behaves differently in higher dimensions!!\n",
    "You might just want to write matrix multiply to keep things consistent and be SURE that you have the correct shapes."
   ]
  },
  {
   "cell_type": "code",
   "execution_count": 83,
   "metadata": {
    "ExecuteTime": {
     "end_time": "2023-10-19T18:21:05.060620425Z",
     "start_time": "2023-10-19T18:21:04.963399498Z"
    }
   },
   "outputs": [
    {
     "name": "stdout",
     "output_type": "stream",
     "text": [
      "[[50]]\n",
      "[[ 3  4  5  6]\n",
      " [ 6  8 10 12]\n",
      " [ 9 12 15 18]\n",
      " [12 16 20 24]]\n"
     ]
    }
   ],
   "source": [
    "# T for transpose\n",
    "\n",
    "print(array_1.dot(array_2.T)) # inner product\n",
    "print(array_1.T.dot(array_2)) # outer product"
   ]
  },
  {
   "cell_type": "code",
   "execution_count": 84,
   "metadata": {
    "ExecuteTime": {
     "end_time": "2023-10-19T18:21:16.933441609Z",
     "start_time": "2023-10-19T18:21:16.867660531Z"
    }
   },
   "outputs": [
    {
     "name": "stdout",
     "output_type": "stream",
     "text": [
      "[[50]]\n",
      "[[ 3  4  5  6]\n",
      " [ 6  8 10 12]\n",
      " [ 9 12 15 18]\n",
      " [12 16 20 24]]\n"
     ]
    }
   ],
   "source": [
    "print(np.matmul(array_1, array_2.T)) # inner product\n",
    "print(np.matmul(array_1.T, array_2)) # outer product"
   ]
  },
  {
   "cell_type": "code",
   "execution_count": 85,
   "metadata": {
    "ExecuteTime": {
     "end_time": "2023-10-19T18:21:18.625825031Z",
     "start_time": "2023-10-19T18:21:18.572607465Z"
    }
   },
   "outputs": [
    {
     "data": {
      "text/plain": "array([[170],\n       [390]])"
     },
     "execution_count": 85,
     "metadata": {},
     "output_type": "execute_result"
    }
   ],
   "source": [
    "weight_matrix = np.array([1, 2, 3, 4]).reshape(2, 2)\n",
    "sample = np.array([[50, 60]]).T\n",
    "\n",
    "np.matmul(weight_matrix, sample)"
   ]
  },
  {
   "cell_type": "code",
   "execution_count": 86,
   "metadata": {
    "ExecuteTime": {
     "end_time": "2023-10-19T18:21:22.455250298Z",
     "start_time": "2023-10-19T18:21:22.351752910Z"
    }
   },
   "outputs": [
    {
     "name": "stdout",
     "output_type": "stream",
     "text": [
      "(2, 2)\n",
      "(2, 1)\n"
     ]
    }
   ],
   "source": [
    "# sanity check\n",
    "print(weight_matrix.shape)\n",
    "print(sample.shape)"
   ]
  },
  {
   "cell_type": "markdown",
   "metadata": {},
   "source": [
    "And of course, we typically use matmul for 2D matrix multiplications. For dim>3, Numpy treats it as a stack of matrices. See [Matmul documentation](https://docs.scipy.org/doc/numpy/reference/generated/numpy.matmul.html)"
   ]
  },
  {
   "cell_type": "code",
   "execution_count": 87,
   "metadata": {
    "ExecuteTime": {
     "end_time": "2023-10-19T18:21:27.553211391Z",
     "start_time": "2023-10-19T18:21:27.438802512Z"
    }
   },
   "outputs": [
    {
     "name": "stdout",
     "output_type": "stream",
     "text": [
      "[[19 22]\n",
      " [43 50]]\n"
     ]
    }
   ],
   "source": [
    "mat1 = np.array([[1, 2], [3, 4]])\n",
    "mat2 = np.array([[5, 6], [7, 8]])\n",
    "\n",
    "print(np.matmul(mat1, mat2))"
   ]
  },
  {
   "cell_type": "markdown",
   "metadata": {},
   "source": [
    "Notice that np.multiply is element-wise multiplication. NOT proper matrix multiplicatio."
   ]
  },
  {
   "cell_type": "code",
   "execution_count": 88,
   "metadata": {
    "ExecuteTime": {
     "end_time": "2023-10-19T18:21:29.412998139Z",
     "start_time": "2023-10-19T18:21:29.319894197Z"
    }
   },
   "outputs": [
    {
     "name": "stdout",
     "output_type": "stream",
     "text": [
      "[[ 0  1  4  9 16]\n",
      " [25 36 49 64 81]]\n",
      "[[ 0  1  4  9 16]\n",
      " [25 36 49 64 81]]\n",
      "[[ 0 10 20 30 40]\n",
      " [50 60 70 80 90]]\n"
     ]
    }
   ],
   "source": [
    "a = np.array([i for i in range(10)]).reshape(2, 5)\n",
    "\n",
    "print(a * a)\n",
    "print(np.multiply(a, a))\n",
    "print(np.multiply(a, 10))"
   ]
  },
  {
   "cell_type": "markdown",
   "metadata": {},
   "source": [
    "## Broadcasting and dimension manipulation\n",
    "\n",
    "Numpy has capability to perform operations on arrays with different shapes, inferring/expanding dimension as needed. Taking examples from [Scipy's documentaiton on numpy](https://docs.scipy.org/doc/numpy/user/basics.broadcasting.html), some examples can be \n",
    "\n",
    "```\n",
    "A      (4d array):  8 x 1 x 6 x 1\n",
    "B      (3d array):      7 x 1 x 5\n",
    "Result (4d array):  8 x 7 x 6 x 5\n",
    "\n",
    "A      (2d array):  5 x 4\n",
    "B      (1d array):      1\n",
    "Result (2d array):  5 x 4\n",
    "\n",
    "A      (2d array):  5 x 4\n",
    "B      (1d array):      4\n",
    "Result (2d array):  5 x 4\n",
    "\n",
    "A      (3d array):  15 x 3 x 5\n",
    "B      (3d array):  15 x 1 x 5\n",
    "Result (3d array):  15 x 3 x 5\n",
    "\n",
    "A      (3d array):  15 x 3 x 5\n",
    "B      (2d array):       3 x 5\n",
    "Result (3d array):  15 x 3 x 5\n",
    "\n",
    "A      (3d array):  15 x 3 x 5\n",
    "B      (2d array):       3 x 1\n",
    "Result (3d array):  15 x 3 x 5\n",
    "```\n",
    "\n",
    "Essentially all dimensions of size 1 can be \"over-looked\" or \"expanded\" to match dimension from another operator. But the order of such must be matched. Dimension of size 1 is only prepended, not appended. For example, the following would not work, though you might think we can add another dimension at the end of B.\n",
    "\n",
    "```\n",
    "A      (3d array):  15 x 3 x 5\n",
    "B      (2d array):       1 x 3\n",
    "Result (3d array):  15 x 3 x 5\n",
    "```"
   ]
  },
  {
   "cell_type": "code",
   "execution_count": null,
   "metadata": {},
   "outputs": [],
   "source": [
    "op1 = np.array([i for i in range(9)]).reshape(3, 3)\n",
    "op2 = np.array([[1, 2, 3]])\n",
    "op3 = np.array([1, 2, 3])\n",
    "\n",
    "pp.pprint(op1)\n",
    "pp.pprint(op2)"
   ]
  },
  {
   "cell_type": "code",
   "execution_count": null,
   "metadata": {},
   "outputs": [],
   "source": [
    "# Notice that the result here is DIFFERENT!\n",
    "print(op1.shape)\n",
    "print(op2.shape)\n",
    "print(op2.T.shape)\n",
    "pp.pprint(op1 + op2)\n",
    "pp.pprint(op1 + op2.T)"
   ]
  },
  {
   "cell_type": "code",
   "execution_count": null,
   "metadata": {},
   "outputs": [],
   "source": [
    "# Notice that the result here are THE SAME!\n",
    "print(op3.shape)\n",
    "print(op3.T.shape)\n",
    "pp.pprint(op1 + op3)\n",
    "pp.pprint(op1 + op3.T)"
   ]
  },
  {
   "cell_type": "markdown",
   "metadata": {},
   "source": [
    "Here, broadcasting won't work for 15 x 3 x 5 with 1 x 3. Because dimensions are only prepended.\n",
    "\n",
    "But it WILL work for 15 x 3 x 5 with 3 x 1."
   ]
  },
  {
   "cell_type": "code",
   "execution_count": null,
   "metadata": {
    "scrolled": true
   },
   "outputs": [],
   "source": [
    "op1 = np.array([i for i in range(225)]).reshape(15, 3, 5)\n",
    "op2 = np.array([[1, 2, 3]])\n",
    "\n",
    "# This does not work\n",
    "# print(op1 + op2)\n",
    "\n",
    "# This works\n",
    "print(op1 + op2.T)\n",
    "\n",
    "# BTW you can contract the cells by clicking on the left"
   ]
  },
  {
   "cell_type": "markdown",
   "metadata": {},
   "source": [
    "### Tile\n",
    "\n",
    "Treat broadcasting as tilling the lower dimensional array to suit the size of the \"more complex\" array."
   ]
  },
  {
   "cell_type": "code",
   "execution_count": null,
   "metadata": {},
   "outputs": [],
   "source": [
    "array = np.array([1, 2, 3])\n",
    "\n",
    "# np.tile(array, shape)\n",
    "print(np.tile(array, 2))\n",
    "print(np.tile(array, (2, 3)))"
   ]
  },
  {
   "cell_type": "markdown",
   "metadata": {},
   "source": [
    "Observe how, with transpose, the tiled result is different. Op2 originally has shape 1 x 3, so\n",
    "\n",
    "Tiling it (1 x 5) means tiling 2nd dimension 5 times, yielding (1 x 15)\n",
    "\n",
    "Tiling the *transpose*, thus 3 x 1, by (1 x 5) means tiling 2nd dimension 5 times, yielding (3 x 5)"
   ]
  },
  {
   "cell_type": "code",
   "execution_count": null,
   "metadata": {},
   "outputs": [],
   "source": [
    "op1 = np.array([i for i in range(225)]).reshape(15, 3, 5)\n",
    "op2 = np.array([[1, 2, 3]])\n",
    "\n",
    "op_tiled= np.tile(op2, (1, 5))\n",
    "print(op_tiled.shape)\n",
    "\n",
    "op_tiled= np.tile(op2.T, (1, 5))\n",
    "print(op_tiled.shape)"
   ]
  },
  {
   "cell_type": "markdown",
   "metadata": {},
   "source": [
    "### Expand/Squeeze\n",
    "\n",
    "Add a dimension of size 1 or remove dimension of size 1. Here we massage op2 (shape=(1, 3)) to shape of (15, 3, 5)"
   ]
  },
  {
   "cell_type": "code",
   "execution_count": null,
   "metadata": {},
   "outputs": [],
   "source": [
    "op_expanded = np.expand_dims(op2, axis=2)\n",
    "print(op_expanded.shape)\n",
    "\n",
    "op_tiled_2 = np.tile(op_expanded, (15, 1, 5))\n",
    "print(op_tiled_2.shape)"
   ]
  },
  {
   "cell_type": "markdown",
   "metadata": {},
   "source": [
    "Same effect with np.newaxis"
   ]
  },
  {
   "cell_type": "code",
   "execution_count": null,
   "metadata": {},
   "outputs": [],
   "source": [
    "op3 = np.array([i for i in range(9)]).reshape(3, 3)\n",
    "\n",
    "op_na = op3[np.newaxis, :]\n",
    "print(op_na)\n",
    "print(op_na.shape)\n",
    "\n",
    "op_na2 = op3[:, np.newaxis, :]\n",
    "print(op_na2)\n",
    "print(op_na2.shape)"
   ]
  },
  {
   "cell_type": "markdown",
   "metadata": {},
   "source": [
    "Squeeze removes size 1 dimensions"
   ]
  },
  {
   "cell_type": "code",
   "execution_count": null,
   "metadata": {},
   "outputs": [],
   "source": [
    "print(op_expanded)\n",
    "print(op_expanded.shape)\n",
    "\n",
    "op_squeezed = np.squeeze(op_expanded)\n",
    "\n",
    "print(op_squeezed)"
   ]
  },
  {
   "cell_type": "markdown",
   "metadata": {},
   "source": [
    "### Pairwise distance\n",
    "\n",
    "Here are 3 ways to compute pairwise distances.\n",
    "* \"Naive\" method through tile expansion\n",
    "* Convert the tile/expansion to broadcasting\n",
    "* Scipy one line"
   ]
  },
  {
   "cell_type": "code",
   "execution_count": null,
   "metadata": {},
   "outputs": [],
   "source": [
    "samples = np.random.random((15, 5))\n",
    "print(samples.shape)\n",
    "print(samples)"
   ]
  },
  {
   "cell_type": "code",
   "execution_count": null,
   "metadata": {},
   "outputs": [],
   "source": [
    "# Without broadcasting\n",
    "expanded1 = np.expand_dims(samples, axis=1)\n",
    "tile1 = np.tile(expanded1, (1, samples.shape[0], 1))\n",
    "#print(expanded1.shape)\n",
    "#print(tile1.shape)\n",
    "#print(tile1)\n",
    "\n",
    "expanded2 = np.expand_dims(samples, axis=0)\n",
    "tile2 = np.tile(expanded2, (samples.shape[0], 1 ,1))\n",
    "#print(expanded2.shape)\n",
    "#print(tile2.shape)\n",
    "#print(tile2)\n",
    "\n",
    "diff = tile2 - tile1\n",
    "distances = np.linalg.norm(diff, axis=-1)\n",
    "# print(distances)\n",
    "print(np.mean(distances))"
   ]
  },
  {
   "cell_type": "code",
   "execution_count": null,
   "metadata": {},
   "outputs": [],
   "source": [
    "# With broadcasting\n",
    "diff = samples[: ,np.newaxis, :] - samples[np.newaxis, :, :]\n",
    "distances = np.linalg.norm(diff, axis=-1)\n",
    "# print(distances)\n",
    "print(np.mean(distances))"
   ]
  },
  {
   "cell_type": "code",
   "execution_count": null,
   "metadata": {
    "scrolled": false
   },
   "outputs": [],
   "source": [
    "# With scipy\n",
    "import scipy.spatial\n",
    "distances = scipy.spatial.distance.cdist(samples, samples)\n",
    "# print(distances)\n",
    "# print(len(distances))\n",
    "print(np.mean(distances))"
   ]
  },
  {
   "cell_type": "markdown",
   "metadata": {},
   "source": [
    "## Vectorization\n",
    "\n",
    "tqdm is a nice package for you to track progress, or just kill time."
   ]
  },
  {
   "cell_type": "code",
   "execution_count": null,
   "metadata": {},
   "outputs": [],
   "source": [
    "import time # time.time() gets wall time, time.clock() gets processor time\n",
    "from tqdm import tqdm"
   ]
  },
  {
   "cell_type": "markdown",
   "metadata": {},
   "source": [
    "### Dot Product\n",
    "\n",
    "Numpy is 25 times faster than loops here."
   ]
  },
  {
   "cell_type": "code",
   "execution_count": null,
   "metadata": {},
   "outputs": [],
   "source": [
    "a = np.random.random(500000)\n",
    "b = np.random.random(500000)\n",
    "\n",
    "p_tic = time.perf_counter()\n",
    "tic = time.time()\n",
    "\n",
    "dot = 0.0;\n",
    "for i in tqdm(range(len(a))):\n",
    "    dot += a[i] * b[i]\n",
    "\n",
    "print(dot)\n",
    "\n",
    "toc = time.time()\n",
    "p_toc = time.perf_counter()\n",
    "\n",
    "print(f'Result: {dot}');\n",
    "print(f'Compute time (wall): {round(1000 * (toc - tic), 6)}ms')\n",
    "print(f'Compute time (cpu) : {round(1000 * (p_toc - p_tic), 6)}ms\\n')\n",
    "\n",
    "#####################################################################\n",
    "\n",
    "p_tic = time.perf_counter()\n",
    "tic = time.time()\n",
    "\n",
    "print(np.array(a).dot(np.array(b)))\n",
    "\n",
    "toc = time.time()\n",
    "p_toc = time.perf_counter()\n",
    "\n",
    "print(f'(vectorized) Result: {dot}');\n",
    "print(f'(vectorized) Compute time: {round(1000 * (toc - tic), 6)}ms')\n",
    "print(f'(vectorized) Compute time (cpu) : {round(1000 * (p_toc - p_tic), 6)}ms')"
   ]
  },
  {
   "cell_type": "markdown",
   "metadata": {},
   "source": [
    "### Matrix muliplication (2D)\n",
    "\n",
    "Numpy is more than TWO THOUSAND times faster than loops here.\n",
    "\n",
    "Matrix multiplication is a *O(n^3)* complexity operation if implemented naively."
   ]
  },
  {
   "cell_type": "code",
   "execution_count": null,
   "metadata": {},
   "outputs": [],
   "source": [
    "def matrix_mul(X, Y):\n",
    "    # iterate through rows of X\n",
    "    for i in range(len(X)):\n",
    "        # iterate through columns of Y\n",
    "        for j in range(len(Y[0])):\n",
    "            # iterate through rows of Y\n",
    "            for k in range(len(Y)):\n",
    "                result[i][j] += X[i][k] * Y[k][j]\n",
    "    return result"
   ]
  },
  {
   "cell_type": "code",
   "execution_count": null,
   "metadata": {},
   "outputs": [],
   "source": [
    "X = np.random.random((200, 200))\n",
    "Y = np.random.random((200, 200))\n",
    "\n",
    "result = np.zeros((200, 200))\n",
    "\n",
    "p_tic = time.perf_counter()\n",
    "tic = time.time()\n",
    "\n",
    "# iterate through rows of X\n",
    "for i in tqdm(range(len(X))):\n",
    "    # iterate through columns of Y\n",
    "    for j in range(len(Y[0])):\n",
    "        # iterate through rows of Y\n",
    "        for k in range(len(Y)):\n",
    "            result[i][j] += X[i][k] * Y[k][j]\n",
    "\n",
    "s = np.sum(result)\n",
    "\n",
    "toc = time.time()\n",
    "p_toc = time.perf_counter()\n",
    "\n",
    "print(f'Result: {s}');\n",
    "print(f'Compute time (wall): {round(1000 * (toc - tic), 6)}ms')\n",
    "print(f'Compute time (cpu) : {round(1000 * (p_toc - p_tic), 6)}ms\\n')\n",
    "\n",
    "#####################################################################\n",
    "\n",
    "p_tic = time.perf_counter()\n",
    "tic = time.time()\n",
    "\n",
    "result = np.matmul(X, Y)\n",
    "s = np.sum(result)\n",
    "\n",
    "toc = time.time()\n",
    "p_toc = time.perf_counter()\n",
    "\n",
    "print(f'(vectorized) Result: {s}');\n",
    "print(f'(vectorized) Compute time: {round(1000 * (toc - tic), 6)}ms')\n",
    "print(f'(vectorized) Compute time (cpu) : {round(1000 * (p_toc - p_tic), 6)}ms')"
   ]
  },
  {
   "cell_type": "markdown",
   "metadata": {},
   "source": [
    "### Pairwise distance, again\n",
    "\n",
    "Again, numpy is 30 times faster"
   ]
  },
  {
   "cell_type": "code",
   "execution_count": null,
   "metadata": {},
   "outputs": [],
   "source": [
    "samples = np.random.random((100, 5))\n",
    "\n",
    "p_tic = time.perf_counter()\n",
    "tic = time.time()\n",
    "\n",
    "total_dist = []\n",
    "for s1 in samples:\n",
    "    for s2 in samples:\n",
    "        d = np.linalg.norm(s1 - s2)\n",
    "        total_dist.append(d)\n",
    "        \n",
    "avg_dist = np.mean(total_dist)\n",
    "\n",
    "toc = time.time()\n",
    "p_toc = time.perf_counter()\n",
    "\n",
    "print(f'Result: {avg_dist}');\n",
    "print(f'Compute time (wall): {round(1000 * (toc - tic), 6)}ms')\n",
    "print(f'Compute time (cpu) : {round(1000 * (p_toc - p_tic), 6)}ms\\n')\n",
    "\n",
    "\n",
    "#####################################################################\n",
    "\n",
    "p_tic = time.perf_counter()\n",
    "tic = time.time()\n",
    "\n",
    "diff = samples[: ,np.newaxis, :] - samples[np.newaxis, :, :]\n",
    "distances = np.linalg.norm(diff, axis=-1)\n",
    "avg_dist = np.mean(distances)\n",
    "\n",
    "toc = time.time()\n",
    "p_toc = time.perf_counter()\n",
    "\n",
    "print(f'Result: {avg_dist}');\n",
    "print(f'Compute time (wall): {round(1000 * (toc - tic), 6)}ms')\n",
    "print(f'Compute time (cpu) : {round(1000 * (p_toc - p_tic), 6)}ms\\n')"
   ]
  },
  {
   "cell_type": "markdown",
   "metadata": {},
   "source": [
    "You might want to make sure that *OpenBLAS* is installed. [OpenBLAS](https://www.openblas.net/) is a \"basic linear algebra subprograms\" package that basically, speeds up math for numpy."
   ]
  },
  {
   "cell_type": "code",
   "execution_count": null,
   "metadata": {},
   "outputs": [],
   "source": [
    "# np.show_config()"
   ]
  },
  {
   "cell_type": "markdown",
   "metadata": {},
   "source": [
    "# Matplotlib"
   ]
  },
  {
   "cell_type": "markdown",
   "metadata": {},
   "source": [
    "## Simple plotting\n",
    "\n",
    "We want to plot with proper labels, series legend, and even markets."
   ]
  },
  {
   "cell_type": "code",
   "execution_count": null,
   "metadata": {},
   "outputs": [],
   "source": [
    "# If you are using a headless environment. Very important if running on server\n",
    "# import matplotlib\n",
    "# matplotlib.use('Agg')\n",
    "\n",
    "import matplotlib.pyplot as plt"
   ]
  },
  {
   "cell_type": "code",
   "execution_count": null,
   "metadata": {},
   "outputs": [],
   "source": [
    "def draw_simple_sin_cos(x_values):\n",
    "    \n",
    "    y1_values = np.sin(x_values * np.pi)\n",
    "    y2_values = np.cos(x_values * np.pi)\n",
    "\n",
    "    plt.plot(x_values, y1_values, label='Sine')\n",
    "    plt.plot(x_values, y2_values, label='Cosine')\n",
    "\n",
    "    plt.legend()\n",
    "    plt.xlabel('x')\n",
    "    plt.ylabel('values')\n",
    "    plt.title('Values for sin and cos, scaled by $\\phi_i$')"
   ]
  },
  {
   "cell_type": "code",
   "execution_count": null,
   "metadata": {},
   "outputs": [],
   "source": [
    "x_values = np.arange(0, 20, 0.001)\n",
    "\n",
    "draw_simple_sin_cos(x_values)\n",
    "plt.show()"
   ]
  },
  {
   "cell_type": "markdown",
   "metadata": {},
   "source": [
    "You can adjust figure size for aspect ratio then DPI for density of pixels. These combined give you resolution of the image"
   ]
  },
  {
   "cell_type": "code",
   "execution_count": null,
   "metadata": {},
   "outputs": [],
   "source": [
    "plt.figure(figsize=(10,3), dpi=100) # 640 x 450\n",
    "\n",
    "draw_simple_sin_cos(x_values)\n",
    "\n",
    "plt.savefig('tutorial_sin.jpg')\n",
    "plt.show()"
   ]
  },
  {
   "cell_type": "markdown",
   "metadata": {},
   "source": [
    "Subplots in a grid can share axis labels through *sharex* and *sharey*."
   ]
  },
  {
   "cell_type": "code",
   "execution_count": null,
   "metadata": {},
   "outputs": [],
   "source": [
    "def draw_subplot_sin_cos(index, x_values, ax):\n",
    "    \n",
    "    y1_values = np.sin(x_values * np.pi)\n",
    "    y2_values = np.cos(x_values * np.pi)\n",
    "\n",
    "    ax.plot(x_values, y1_values, c='r', label='Sine')\n",
    "    ax.scatter(x_values, y2_values, s=4, label='Cosine')\n",
    "\n",
    "    ax.legend()\n",
    "    ax.set_xlabel('x')\n",
    "    ax.set_ylabel('values')\n",
    "    ax.set_title(f'Values for sin and cos (Subplot #{index})')"
   ]
  },
  {
   "cell_type": "code",
   "execution_count": null,
   "metadata": {},
   "outputs": [],
   "source": [
    "fig, ax_list = plt.subplots(nrows=2, ncols=2, figsize=(10, 10))\n",
    "#fig, ax_list = plt.subplots(nrows=2, ncols=2,\n",
    "#                            sharex='col', sharey='row',\n",
    "#                            figsize=(10, 10))\n",
    "\n",
    "i = 0\n",
    "for r, row in enumerate(ax_list):\n",
    "    for c, ax in enumerate(row):\n",
    "        x_values = np.arange(i, i + 10, 0.1)\n",
    "        draw_subplot_sin_cos(i, x_values, ax)\n",
    "        i += 1\n",
    "\n",
    "plt.show()"
   ]
  },
  {
   "cell_type": "markdown",
   "metadata": {},
   "source": [
    "## Confusion matrix\n",
    "\n",
    "Here we show plotting confusion matrix from scratch. For a pre-built one, see [implementation by scikit-learn](https://scikit-learn.org/stable/auto_examples/model_selection/plot_confusion_matrix.html)"
   ]
  },
  {
   "cell_type": "code",
   "execution_count": null,
   "metadata": {},
   "outputs": [],
   "source": [
    "fig, ax = plt.subplots(figsize=(10,10))\n",
    "\n",
    "color='YlGn'\n",
    "\n",
    "labels = ['Python', 'C++', 'Fortran']\n",
    "\n",
    "cm = np.array([[0.7, 0.3, 0.2], [0.1, 0.5, 0.4], [0.05, 0.1, 0.85]])\n",
    "heatmap = ax.pcolor(cm, cmap=color)\n",
    "fig.colorbar(heatmap)\n",
    "ax.invert_yaxis()\n",
    "ax.xaxis.tick_top()\n",
    "\n",
    "ax.set_title('Confusion Matrix')\n",
    "ax.set_xlabel('Prediction')\n",
    "ax.set_ylabel('Groud Truth')\n",
    "\n",
    "ax.set_xticks(np.arange(cm.shape[0]) + 0.5, minor=False)\n",
    "ax.set_yticks(np.arange(cm.shape[1]) + 0.5, minor=False)\n",
    "ax.set_xticklabels(labels)\n",
    "ax.set_yticklabels(labels)\n",
    "\n",
    "plt.show()"
   ]
  },
  {
   "cell_type": "markdown",
   "metadata": {},
   "source": [
    "### Show image"
   ]
  },
  {
   "cell_type": "markdown",
   "metadata": {},
   "source": [
    "When showing images, remember to tell numpy the range of pixel values. Typically pixel values are either *0-1* or *0-255*."
   ]
  },
  {
   "cell_type": "code",
   "execution_count": null,
   "metadata": {},
   "outputs": [],
   "source": [
    "img_arr = np.random.random((256, 256))# 0 -> 1\n",
    "print(img_arr.shape)\n",
    "\n",
    "plt.imshow(img_arr, cmap='gray', vmin=0.2, vmax=0.25)\n",
    "plt.show()"
   ]
  },
  {
   "cell_type": "markdown",
   "metadata": {},
   "source": [
    "By default numpy goes channel first."
   ]
  },
  {
   "cell_type": "code",
   "execution_count": null,
   "metadata": {},
   "outputs": [],
   "source": [
    "img_arr = np.random.random((256, 256, 3))# R, C, (RGB)\n",
    "print(img_arr.shape)\n",
    "\n",
    "plt.imshow(img_arr, vmin=0, vmax=1)\n",
    "plt.show()"
   ]
  },
  {
   "cell_type": "markdown",
   "metadata": {},
   "source": [
    "Remember to move axis around if you want to use the default plotting tool."
   ]
  },
  {
   "cell_type": "code",
   "execution_count": null,
   "metadata": {},
   "outputs": [],
   "source": [
    "img_arr = np.random.random((3, 256, 256))# (RGB) R C\n",
    "print(img_arr.shape)\n",
    "\n",
    "img_arr = np.moveaxis(img_arr, 0, -1)\n",
    "print(img_arr.shape)\n",
    "\n",
    "plt.imshow(img_arr, vmin=0, vmax=1)\n",
    "plt.show()"
   ]
  },
  {
   "cell_type": "code",
   "execution_count": null,
   "metadata": {
    "scrolled": true
   },
   "outputs": [],
   "source": [
    "import imageio\n",
    "\n",
    "fname = 'sample.jpg'\n",
    "img = imageio.imread(fname)\n",
    "\n",
    "print(img.shape)"
   ]
  },
  {
   "cell_type": "code",
   "execution_count": null,
   "metadata": {},
   "outputs": [],
   "source": [
    "plt.figure(dpi=250)   # dpi=500 -> larger\n",
    "plt.imshow(img, vmin=0, vmax=10000, interpolation='bilinear')\n",
    "plt.show()"
   ]
  },
  {
   "cell_type": "markdown",
   "metadata": {},
   "source": [
    "## Pandas\n",
    "\n",
    "Pandas is great data processing library for table/database-like data. Excellent for things that come in or you wish to output as CSV/Excel. Part of the following content is inspired by [a Pandas tutorial online](https://www.learndatasci.com/tutorials/python-pandas-tutorial-complete-introduction-for-beginners/).\n",
    "\n",
    "\n",
    "### File operations"
   ]
  },
  {
   "cell_type": "code",
   "execution_count": 89,
   "metadata": {
    "ExecuteTime": {
     "end_time": "2023-10-19T18:23:16.277112865Z",
     "start_time": "2023-10-19T18:23:16.187626203Z"
    }
   },
   "outputs": [],
   "source": [
    "import pandas as pd"
   ]
  },
  {
   "cell_type": "code",
   "execution_count": 90,
   "metadata": {
    "ExecuteTime": {
     "end_time": "2023-10-19T18:23:17.076757706Z",
     "start_time": "2023-10-19T18:23:17.021183975Z"
    }
   },
   "outputs": [],
   "source": [
    "data = pd.read_csv('train.csv')\n",
    "\n",
    "data_short = data[:20]"
   ]
  },
  {
   "cell_type": "code",
   "execution_count": 91,
   "metadata": {
    "scrolled": false,
    "ExecuteTime": {
     "end_time": "2023-10-19T18:23:18.173238656Z",
     "start_time": "2023-10-19T18:23:18.075415907Z"
    }
   },
   "outputs": [
    {
     "data": {
      "text/plain": "    x_1  x_2       x_3       x_4   y\n0   1.0  0.0  2.976142  0.651482  10\n1   0.0  1.0  1.411390  0.743732  12\n2   0.0  1.0  1.039892  1.290588   7\n3   1.0  0.0  2.338679  0.973942  15\n4   0.0  1.0  2.385257  0.297921   9\n5   0.0  1.0  2.912910  0.244489   8\n6   1.0  0.0  2.585491  0.133044   9\n7   1.0  0.0  2.961107  0.338565   8\n8   0.0  1.0  0.161944  0.481609   4\n9   0.0  1.0  2.512621  1.118481  16\n10  1.0  0.0  2.711287  0.463432  14\n11  1.0  0.0  1.479011  0.860247   7\n12  1.0  0.0  0.223923  1.030258   8\n13  1.0  0.0  2.918245  0.409249  10\n14  0.0  1.0  1.447071  0.061543   4\n15  1.0  0.0  2.269534  1.754568  19\n16  0.0  1.0  2.804809  1.114212  15\n17  0.0  1.0  2.539715  1.850662  21\n18  0.0  1.0  1.300125  1.178924   5\n19  1.0  0.0  1.275172  0.756409  11",
      "text/html": "<div>\n<style scoped>\n    .dataframe tbody tr th:only-of-type {\n        vertical-align: middle;\n    }\n\n    .dataframe tbody tr th {\n        vertical-align: top;\n    }\n\n    .dataframe thead th {\n        text-align: right;\n    }\n</style>\n<table border=\"1\" class=\"dataframe\">\n  <thead>\n    <tr style=\"text-align: right;\">\n      <th></th>\n      <th>x_1</th>\n      <th>x_2</th>\n      <th>x_3</th>\n      <th>x_4</th>\n      <th>y</th>\n    </tr>\n  </thead>\n  <tbody>\n    <tr>\n      <th>0</th>\n      <td>1.0</td>\n      <td>0.0</td>\n      <td>2.976142</td>\n      <td>0.651482</td>\n      <td>10</td>\n    </tr>\n    <tr>\n      <th>1</th>\n      <td>0.0</td>\n      <td>1.0</td>\n      <td>1.411390</td>\n      <td>0.743732</td>\n      <td>12</td>\n    </tr>\n    <tr>\n      <th>2</th>\n      <td>0.0</td>\n      <td>1.0</td>\n      <td>1.039892</td>\n      <td>1.290588</td>\n      <td>7</td>\n    </tr>\n    <tr>\n      <th>3</th>\n      <td>1.0</td>\n      <td>0.0</td>\n      <td>2.338679</td>\n      <td>0.973942</td>\n      <td>15</td>\n    </tr>\n    <tr>\n      <th>4</th>\n      <td>0.0</td>\n      <td>1.0</td>\n      <td>2.385257</td>\n      <td>0.297921</td>\n      <td>9</td>\n    </tr>\n    <tr>\n      <th>5</th>\n      <td>0.0</td>\n      <td>1.0</td>\n      <td>2.912910</td>\n      <td>0.244489</td>\n      <td>8</td>\n    </tr>\n    <tr>\n      <th>6</th>\n      <td>1.0</td>\n      <td>0.0</td>\n      <td>2.585491</td>\n      <td>0.133044</td>\n      <td>9</td>\n    </tr>\n    <tr>\n      <th>7</th>\n      <td>1.0</td>\n      <td>0.0</td>\n      <td>2.961107</td>\n      <td>0.338565</td>\n      <td>8</td>\n    </tr>\n    <tr>\n      <th>8</th>\n      <td>0.0</td>\n      <td>1.0</td>\n      <td>0.161944</td>\n      <td>0.481609</td>\n      <td>4</td>\n    </tr>\n    <tr>\n      <th>9</th>\n      <td>0.0</td>\n      <td>1.0</td>\n      <td>2.512621</td>\n      <td>1.118481</td>\n      <td>16</td>\n    </tr>\n    <tr>\n      <th>10</th>\n      <td>1.0</td>\n      <td>0.0</td>\n      <td>2.711287</td>\n      <td>0.463432</td>\n      <td>14</td>\n    </tr>\n    <tr>\n      <th>11</th>\n      <td>1.0</td>\n      <td>0.0</td>\n      <td>1.479011</td>\n      <td>0.860247</td>\n      <td>7</td>\n    </tr>\n    <tr>\n      <th>12</th>\n      <td>1.0</td>\n      <td>0.0</td>\n      <td>0.223923</td>\n      <td>1.030258</td>\n      <td>8</td>\n    </tr>\n    <tr>\n      <th>13</th>\n      <td>1.0</td>\n      <td>0.0</td>\n      <td>2.918245</td>\n      <td>0.409249</td>\n      <td>10</td>\n    </tr>\n    <tr>\n      <th>14</th>\n      <td>0.0</td>\n      <td>1.0</td>\n      <td>1.447071</td>\n      <td>0.061543</td>\n      <td>4</td>\n    </tr>\n    <tr>\n      <th>15</th>\n      <td>1.0</td>\n      <td>0.0</td>\n      <td>2.269534</td>\n      <td>1.754568</td>\n      <td>19</td>\n    </tr>\n    <tr>\n      <th>16</th>\n      <td>0.0</td>\n      <td>1.0</td>\n      <td>2.804809</td>\n      <td>1.114212</td>\n      <td>15</td>\n    </tr>\n    <tr>\n      <th>17</th>\n      <td>0.0</td>\n      <td>1.0</td>\n      <td>2.539715</td>\n      <td>1.850662</td>\n      <td>21</td>\n    </tr>\n    <tr>\n      <th>18</th>\n      <td>0.0</td>\n      <td>1.0</td>\n      <td>1.300125</td>\n      <td>1.178924</td>\n      <td>5</td>\n    </tr>\n    <tr>\n      <th>19</th>\n      <td>1.0</td>\n      <td>0.0</td>\n      <td>1.275172</td>\n      <td>0.756409</td>\n      <td>11</td>\n    </tr>\n  </tbody>\n</table>\n</div>"
     },
     "execution_count": 91,
     "metadata": {},
     "output_type": "execute_result"
    }
   ],
   "source": [
    "data_short"
   ]
  },
  {
   "cell_type": "markdown",
   "metadata": {},
   "source": [
    "You can get basic statiscis with little effort like this"
   ]
  },
  {
   "cell_type": "code",
   "execution_count": 92,
   "metadata": {
    "ExecuteTime": {
     "end_time": "2023-10-19T18:23:27.238462555Z",
     "start_time": "2023-10-19T18:23:27.116437417Z"
    }
   },
   "outputs": [
    {
     "name": "stdout",
     "output_type": "stream",
     "text": [
      "count    2500.000000\n",
      "mean        0.286400\n",
      "std         0.452169\n",
      "min         0.000000\n",
      "25%         0.000000\n",
      "50%         0.000000\n",
      "75%         1.000000\n",
      "max         1.000000\n",
      "Name: x_1, dtype: float64\n"
     ]
    },
    {
     "data": {
      "text/plain": "               x_1          x_2          x_3          x_4            y\ncount  2500.000000  2500.000000  2500.000000  2500.000000  2500.000000\nmean      0.286400     0.713600     1.506160     0.974763     9.764000\nstd       0.452169     0.452169     0.862699     0.577296     4.559893\nmin       0.000000     0.000000     0.004021     0.001589     1.000000\n25%       0.000000     0.000000     0.753142     0.481975     6.000000\n50%       0.000000     1.000000     1.488827     0.969344     9.000000\n75%       1.000000     1.000000     2.262212     1.473104    13.000000\nmax       1.000000     1.000000     2.998699     1.997793    29.000000",
      "text/html": "<div>\n<style scoped>\n    .dataframe tbody tr th:only-of-type {\n        vertical-align: middle;\n    }\n\n    .dataframe tbody tr th {\n        vertical-align: top;\n    }\n\n    .dataframe thead th {\n        text-align: right;\n    }\n</style>\n<table border=\"1\" class=\"dataframe\">\n  <thead>\n    <tr style=\"text-align: right;\">\n      <th></th>\n      <th>x_1</th>\n      <th>x_2</th>\n      <th>x_3</th>\n      <th>x_4</th>\n      <th>y</th>\n    </tr>\n  </thead>\n  <tbody>\n    <tr>\n      <th>count</th>\n      <td>2500.000000</td>\n      <td>2500.000000</td>\n      <td>2500.000000</td>\n      <td>2500.000000</td>\n      <td>2500.000000</td>\n    </tr>\n    <tr>\n      <th>mean</th>\n      <td>0.286400</td>\n      <td>0.713600</td>\n      <td>1.506160</td>\n      <td>0.974763</td>\n      <td>9.764000</td>\n    </tr>\n    <tr>\n      <th>std</th>\n      <td>0.452169</td>\n      <td>0.452169</td>\n      <td>0.862699</td>\n      <td>0.577296</td>\n      <td>4.559893</td>\n    </tr>\n    <tr>\n      <th>min</th>\n      <td>0.000000</td>\n      <td>0.000000</td>\n      <td>0.004021</td>\n      <td>0.001589</td>\n      <td>1.000000</td>\n    </tr>\n    <tr>\n      <th>25%</th>\n      <td>0.000000</td>\n      <td>0.000000</td>\n      <td>0.753142</td>\n      <td>0.481975</td>\n      <td>6.000000</td>\n    </tr>\n    <tr>\n      <th>50%</th>\n      <td>0.000000</td>\n      <td>1.000000</td>\n      <td>1.488827</td>\n      <td>0.969344</td>\n      <td>9.000000</td>\n    </tr>\n    <tr>\n      <th>75%</th>\n      <td>1.000000</td>\n      <td>1.000000</td>\n      <td>2.262212</td>\n      <td>1.473104</td>\n      <td>13.000000</td>\n    </tr>\n    <tr>\n      <th>max</th>\n      <td>1.000000</td>\n      <td>1.000000</td>\n      <td>2.998699</td>\n      <td>1.997793</td>\n      <td>29.000000</td>\n    </tr>\n  </tbody>\n</table>\n</div>"
     },
     "execution_count": 92,
     "metadata": {},
     "output_type": "execute_result"
    }
   ],
   "source": [
    "print(data['x_1'].describe())     # For one column\n",
    "\n",
    "data.describe()                   # For the entire dataframe"
   ]
  },
  {
   "cell_type": "markdown",
   "metadata": {},
   "source": [
    "See [Pandas documentation](https://pandas.pydata.org/pandas-docs/stable/reference/api/pandas.DataFrame.to_csv.html) for parameters of *to_csv* function."
   ]
  },
  {
   "cell_type": "code",
   "execution_count": 93,
   "metadata": {
    "ExecuteTime": {
     "end_time": "2023-10-19T18:23:37.257618973Z",
     "start_time": "2023-10-19T18:23:37.175609686Z"
    }
   },
   "outputs": [],
   "source": [
    "data_short.to_csv('data_short.csv', index=False)"
   ]
  },
  {
   "cell_type": "markdown",
   "metadata": {},
   "source": [
    "### Manipulations"
   ]
  },
  {
   "cell_type": "markdown",
   "metadata": {},
   "source": [
    "Columns can be selected and filtered based on value/name. Be careful with binary operation for filtering due to order of execution. Bitwise operations takes precedence over boolean."
   ]
  },
  {
   "cell_type": "code",
   "execution_count": 94,
   "metadata": {
    "scrolled": false,
    "ExecuteTime": {
     "end_time": "2023-10-19T18:23:39.292834903Z",
     "start_time": "2023-10-19T18:23:39.238024020Z"
    }
   },
   "outputs": [
    {
     "data": {
      "text/plain": "    x_1   y\n0   1.0  10\n1   0.0  12\n2   0.0   7\n3   1.0  15\n4   0.0   9\n5   0.0   8\n6   1.0   9\n7   1.0   8\n8   0.0   4\n9   0.0  16\n10  1.0  14\n11  1.0   7\n12  1.0   8\n13  1.0  10\n14  0.0   4\n15  1.0  19\n16  0.0  15\n17  0.0  21\n18  0.0   5\n19  1.0  11",
      "text/html": "<div>\n<style scoped>\n    .dataframe tbody tr th:only-of-type {\n        vertical-align: middle;\n    }\n\n    .dataframe tbody tr th {\n        vertical-align: top;\n    }\n\n    .dataframe thead th {\n        text-align: right;\n    }\n</style>\n<table border=\"1\" class=\"dataframe\">\n  <thead>\n    <tr style=\"text-align: right;\">\n      <th></th>\n      <th>x_1</th>\n      <th>y</th>\n    </tr>\n  </thead>\n  <tbody>\n    <tr>\n      <th>0</th>\n      <td>1.0</td>\n      <td>10</td>\n    </tr>\n    <tr>\n      <th>1</th>\n      <td>0.0</td>\n      <td>12</td>\n    </tr>\n    <tr>\n      <th>2</th>\n      <td>0.0</td>\n      <td>7</td>\n    </tr>\n    <tr>\n      <th>3</th>\n      <td>1.0</td>\n      <td>15</td>\n    </tr>\n    <tr>\n      <th>4</th>\n      <td>0.0</td>\n      <td>9</td>\n    </tr>\n    <tr>\n      <th>5</th>\n      <td>0.0</td>\n      <td>8</td>\n    </tr>\n    <tr>\n      <th>6</th>\n      <td>1.0</td>\n      <td>9</td>\n    </tr>\n    <tr>\n      <th>7</th>\n      <td>1.0</td>\n      <td>8</td>\n    </tr>\n    <tr>\n      <th>8</th>\n      <td>0.0</td>\n      <td>4</td>\n    </tr>\n    <tr>\n      <th>9</th>\n      <td>0.0</td>\n      <td>16</td>\n    </tr>\n    <tr>\n      <th>10</th>\n      <td>1.0</td>\n      <td>14</td>\n    </tr>\n    <tr>\n      <th>11</th>\n      <td>1.0</td>\n      <td>7</td>\n    </tr>\n    <tr>\n      <th>12</th>\n      <td>1.0</td>\n      <td>8</td>\n    </tr>\n    <tr>\n      <th>13</th>\n      <td>1.0</td>\n      <td>10</td>\n    </tr>\n    <tr>\n      <th>14</th>\n      <td>0.0</td>\n      <td>4</td>\n    </tr>\n    <tr>\n      <th>15</th>\n      <td>1.0</td>\n      <td>19</td>\n    </tr>\n    <tr>\n      <th>16</th>\n      <td>0.0</td>\n      <td>15</td>\n    </tr>\n    <tr>\n      <th>17</th>\n      <td>0.0</td>\n      <td>21</td>\n    </tr>\n    <tr>\n      <th>18</th>\n      <td>0.0</td>\n      <td>5</td>\n    </tr>\n    <tr>\n      <th>19</th>\n      <td>1.0</td>\n      <td>11</td>\n    </tr>\n  </tbody>\n</table>\n</div>"
     },
     "execution_count": 94,
     "metadata": {},
     "output_type": "execute_result"
    }
   ],
   "source": [
    "data_short[['x_1', 'y']]"
   ]
  },
  {
   "cell_type": "code",
   "execution_count": 95,
   "metadata": {
    "ExecuteTime": {
     "end_time": "2023-10-19T18:23:40.657650844Z",
     "start_time": "2023-10-19T18:23:40.545594344Z"
    }
   },
   "outputs": [
    {
     "data": {
      "text/plain": "    x_1  x_2       x_3       x_4   y\n1   0.0  1.0  1.411390  0.743732  12\n2   0.0  1.0  1.039892  1.290588   7\n11  1.0  0.0  1.479011  0.860247   7\n12  1.0  0.0  0.223923  1.030258   8\n19  1.0  0.0  1.275172  0.756409  11",
      "text/html": "<div>\n<style scoped>\n    .dataframe tbody tr th:only-of-type {\n        vertical-align: middle;\n    }\n\n    .dataframe tbody tr th {\n        vertical-align: top;\n    }\n\n    .dataframe thead th {\n        text-align: right;\n    }\n</style>\n<table border=\"1\" class=\"dataframe\">\n  <thead>\n    <tr style=\"text-align: right;\">\n      <th></th>\n      <th>x_1</th>\n      <th>x_2</th>\n      <th>x_3</th>\n      <th>x_4</th>\n      <th>y</th>\n    </tr>\n  </thead>\n  <tbody>\n    <tr>\n      <th>1</th>\n      <td>0.0</td>\n      <td>1.0</td>\n      <td>1.411390</td>\n      <td>0.743732</td>\n      <td>12</td>\n    </tr>\n    <tr>\n      <th>2</th>\n      <td>0.0</td>\n      <td>1.0</td>\n      <td>1.039892</td>\n      <td>1.290588</td>\n      <td>7</td>\n    </tr>\n    <tr>\n      <th>11</th>\n      <td>1.0</td>\n      <td>0.0</td>\n      <td>1.479011</td>\n      <td>0.860247</td>\n      <td>7</td>\n    </tr>\n    <tr>\n      <th>12</th>\n      <td>1.0</td>\n      <td>0.0</td>\n      <td>0.223923</td>\n      <td>1.030258</td>\n      <td>8</td>\n    </tr>\n    <tr>\n      <th>19</th>\n      <td>1.0</td>\n      <td>0.0</td>\n      <td>1.275172</td>\n      <td>0.756409</td>\n      <td>11</td>\n    </tr>\n  </tbody>\n</table>\n</div>"
     },
     "execution_count": 95,
     "metadata": {},
     "output_type": "execute_result"
    }
   ],
   "source": [
    "data_short[(data_short['y'] > 5) & (data_short['x_3'] < 1.5)]       # Use & | instead of and/or. Put brackets around"
   ]
  },
  {
   "cell_type": "markdown",
   "metadata": {},
   "source": [
    "A filter function can be applied to generate a new column (you can use this to apply a trained model for prediction result)."
   ]
  },
  {
   "cell_type": "markdown",
   "metadata": {},
   "source": [
    "We can add column based on filter/conditions."
   ]
  },
  {
   "cell_type": "code",
   "execution_count": 96,
   "metadata": {
    "scrolled": false,
    "ExecuteTime": {
     "end_time": "2023-10-19T18:23:44.246637306Z",
     "start_time": "2023-10-19T18:23:44.166404475Z"
    }
   },
   "outputs": [
    {
     "name": "stderr",
     "output_type": "stream",
     "text": [
      "/tmp/ipykernel_25909/1827845795.py:8: SettingWithCopyWarning: \n",
      "A value is trying to be set on a copy of a slice from a DataFrame.\n",
      "Try using .loc[row_indexer,col_indexer] = value instead\n",
      "\n",
      "See the caveats in the documentation: https://pandas.pydata.org/pandas-docs/stable/user_guide/indexing.html#returning-a-view-versus-a-copy\n",
      "  data_short['new_column'] = data_short[['x_1', 'x_2', 'y']].apply(filter_func, axis=1)\n"
     ]
    },
    {
     "data": {
      "text/plain": "    x_1  x_2       x_3       x_4   y  new_column\n0   1.0  0.0  2.976142  0.651482  10       100.0\n1   0.0  1.0  1.411390  0.743732  12        -1.0\n2   0.0  1.0  1.039892  1.290588   7        -1.0\n3   1.0  0.0  2.338679  0.973942  15       150.0\n4   0.0  1.0  2.385257  0.297921   9        -1.0\n5   0.0  1.0  2.912910  0.244489   8        -1.0\n6   1.0  0.0  2.585491  0.133044   9        90.0\n7   1.0  0.0  2.961107  0.338565   8        80.0\n8   0.0  1.0  0.161944  0.481609   4        -1.0\n9   0.0  1.0  2.512621  1.118481  16        -1.0\n10  1.0  0.0  2.711287  0.463432  14       140.0\n11  1.0  0.0  1.479011  0.860247   7        70.0\n12  1.0  0.0  0.223923  1.030258   8        80.0\n13  1.0  0.0  2.918245  0.409249  10       100.0\n14  0.0  1.0  1.447071  0.061543   4        -1.0\n15  1.0  0.0  2.269534  1.754568  19       190.0\n16  0.0  1.0  2.804809  1.114212  15        -1.0\n17  0.0  1.0  2.539715  1.850662  21        -1.0\n18  0.0  1.0  1.300125  1.178924   5        -1.0\n19  1.0  0.0  1.275172  0.756409  11       110.0",
      "text/html": "<div>\n<style scoped>\n    .dataframe tbody tr th:only-of-type {\n        vertical-align: middle;\n    }\n\n    .dataframe tbody tr th {\n        vertical-align: top;\n    }\n\n    .dataframe thead th {\n        text-align: right;\n    }\n</style>\n<table border=\"1\" class=\"dataframe\">\n  <thead>\n    <tr style=\"text-align: right;\">\n      <th></th>\n      <th>x_1</th>\n      <th>x_2</th>\n      <th>x_3</th>\n      <th>x_4</th>\n      <th>y</th>\n      <th>new_column</th>\n    </tr>\n  </thead>\n  <tbody>\n    <tr>\n      <th>0</th>\n      <td>1.0</td>\n      <td>0.0</td>\n      <td>2.976142</td>\n      <td>0.651482</td>\n      <td>10</td>\n      <td>100.0</td>\n    </tr>\n    <tr>\n      <th>1</th>\n      <td>0.0</td>\n      <td>1.0</td>\n      <td>1.411390</td>\n      <td>0.743732</td>\n      <td>12</td>\n      <td>-1.0</td>\n    </tr>\n    <tr>\n      <th>2</th>\n      <td>0.0</td>\n      <td>1.0</td>\n      <td>1.039892</td>\n      <td>1.290588</td>\n      <td>7</td>\n      <td>-1.0</td>\n    </tr>\n    <tr>\n      <th>3</th>\n      <td>1.0</td>\n      <td>0.0</td>\n      <td>2.338679</td>\n      <td>0.973942</td>\n      <td>15</td>\n      <td>150.0</td>\n    </tr>\n    <tr>\n      <th>4</th>\n      <td>0.0</td>\n      <td>1.0</td>\n      <td>2.385257</td>\n      <td>0.297921</td>\n      <td>9</td>\n      <td>-1.0</td>\n    </tr>\n    <tr>\n      <th>5</th>\n      <td>0.0</td>\n      <td>1.0</td>\n      <td>2.912910</td>\n      <td>0.244489</td>\n      <td>8</td>\n      <td>-1.0</td>\n    </tr>\n    <tr>\n      <th>6</th>\n      <td>1.0</td>\n      <td>0.0</td>\n      <td>2.585491</td>\n      <td>0.133044</td>\n      <td>9</td>\n      <td>90.0</td>\n    </tr>\n    <tr>\n      <th>7</th>\n      <td>1.0</td>\n      <td>0.0</td>\n      <td>2.961107</td>\n      <td>0.338565</td>\n      <td>8</td>\n      <td>80.0</td>\n    </tr>\n    <tr>\n      <th>8</th>\n      <td>0.0</td>\n      <td>1.0</td>\n      <td>0.161944</td>\n      <td>0.481609</td>\n      <td>4</td>\n      <td>-1.0</td>\n    </tr>\n    <tr>\n      <th>9</th>\n      <td>0.0</td>\n      <td>1.0</td>\n      <td>2.512621</td>\n      <td>1.118481</td>\n      <td>16</td>\n      <td>-1.0</td>\n    </tr>\n    <tr>\n      <th>10</th>\n      <td>1.0</td>\n      <td>0.0</td>\n      <td>2.711287</td>\n      <td>0.463432</td>\n      <td>14</td>\n      <td>140.0</td>\n    </tr>\n    <tr>\n      <th>11</th>\n      <td>1.0</td>\n      <td>0.0</td>\n      <td>1.479011</td>\n      <td>0.860247</td>\n      <td>7</td>\n      <td>70.0</td>\n    </tr>\n    <tr>\n      <th>12</th>\n      <td>1.0</td>\n      <td>0.0</td>\n      <td>0.223923</td>\n      <td>1.030258</td>\n      <td>8</td>\n      <td>80.0</td>\n    </tr>\n    <tr>\n      <th>13</th>\n      <td>1.0</td>\n      <td>0.0</td>\n      <td>2.918245</td>\n      <td>0.409249</td>\n      <td>10</td>\n      <td>100.0</td>\n    </tr>\n    <tr>\n      <th>14</th>\n      <td>0.0</td>\n      <td>1.0</td>\n      <td>1.447071</td>\n      <td>0.061543</td>\n      <td>4</td>\n      <td>-1.0</td>\n    </tr>\n    <tr>\n      <th>15</th>\n      <td>1.0</td>\n      <td>0.0</td>\n      <td>2.269534</td>\n      <td>1.754568</td>\n      <td>19</td>\n      <td>190.0</td>\n    </tr>\n    <tr>\n      <th>16</th>\n      <td>0.0</td>\n      <td>1.0</td>\n      <td>2.804809</td>\n      <td>1.114212</td>\n      <td>15</td>\n      <td>-1.0</td>\n    </tr>\n    <tr>\n      <th>17</th>\n      <td>0.0</td>\n      <td>1.0</td>\n      <td>2.539715</td>\n      <td>1.850662</td>\n      <td>21</td>\n      <td>-1.0</td>\n    </tr>\n    <tr>\n      <th>18</th>\n      <td>0.0</td>\n      <td>1.0</td>\n      <td>1.300125</td>\n      <td>1.178924</td>\n      <td>5</td>\n      <td>-1.0</td>\n    </tr>\n    <tr>\n      <th>19</th>\n      <td>1.0</td>\n      <td>0.0</td>\n      <td>1.275172</td>\n      <td>0.756409</td>\n      <td>11</td>\n      <td>110.0</td>\n    </tr>\n  </tbody>\n</table>\n</div>"
     },
     "execution_count": 96,
     "metadata": {},
     "output_type": "execute_result"
    }
   ],
   "source": [
    "def filter_func(row):\n",
    "    \n",
    "    if row['x_1'] == 1.0 and row['x_2'] == 0.0:\n",
    "        return row['y'] * 10\n",
    "    \n",
    "    return -1\n",
    "\n",
    "data_short['new_column'] = data_short[['x_1', 'x_2', 'y']].apply(filter_func, axis=1)\n",
    "\n",
    "data_short"
   ]
  },
  {
   "cell_type": "markdown",
   "metadata": {},
   "source": [
    "Iterating through Pandas rows can be done as follows. Each row is a \"dictionary\". Adding data directly via a list of values is also valid."
   ]
  },
  {
   "cell_type": "code",
   "execution_count": 97,
   "metadata": {
    "ExecuteTime": {
     "end_time": "2023-10-19T18:23:46.775179004Z",
     "start_time": "2023-10-19T18:23:46.692042083Z"
    }
   },
   "outputs": [
    {
     "name": "stdout",
     "output_type": "stream",
     "text": [
      "Row 0: y-value: 10.0\n",
      "Row 1: y-value: 12.0\n",
      "Row 2: y-value: 7.0\n",
      "Row 3: y-value: 15.0\n",
      "Row 4: y-value: 9.0\n",
      "Row 5: y-value: 8.0\n",
      "Row 6: y-value: 9.0\n",
      "Row 7: y-value: 8.0\n",
      "Row 8: y-value: 4.0\n",
      "Row 9: y-value: 16.0\n",
      "Row 10: y-value: 14.0\n",
      "Row 11: y-value: 7.0\n",
      "Row 12: y-value: 8.0\n",
      "Row 13: y-value: 10.0\n",
      "Row 14: y-value: 4.0\n",
      "Row 15: y-value: 19.0\n",
      "Row 16: y-value: 15.0\n",
      "Row 17: y-value: 21.0\n",
      "Row 18: y-value: 5.0\n",
      "Row 19: y-value: 11.0\n"
     ]
    },
    {
     "name": "stderr",
     "output_type": "stream",
     "text": [
      "/tmp/ipykernel_25909/3171830750.py:6: SettingWithCopyWarning: \n",
      "A value is trying to be set on a copy of a slice from a DataFrame.\n",
      "Try using .loc[row_indexer,col_indexer] = value instead\n",
      "\n",
      "See the caveats in the documentation: https://pandas.pydata.org/pandas-docs/stable/user_guide/indexing.html#returning-a-view-versus-a-copy\n",
      "  data_short['col_2'] = col2\n"
     ]
    },
    {
     "data": {
      "text/plain": "    x_1  x_2       x_3       x_4   y  new_column  col_2\n0   1.0  0.0  2.976142  0.651482  10       100.0  100.0\n1   0.0  1.0  1.411390  0.743732  12        -1.0  144.0\n2   0.0  1.0  1.039892  1.290588   7        -1.0   49.0\n3   1.0  0.0  2.338679  0.973942  15       150.0  225.0\n4   0.0  1.0  2.385257  0.297921   9        -1.0   81.0\n5   0.0  1.0  2.912910  0.244489   8        -1.0   64.0\n6   1.0  0.0  2.585491  0.133044   9        90.0   81.0\n7   1.0  0.0  2.961107  0.338565   8        80.0   64.0\n8   0.0  1.0  0.161944  0.481609   4        -1.0   16.0\n9   0.0  1.0  2.512621  1.118481  16        -1.0  256.0\n10  1.0  0.0  2.711287  0.463432  14       140.0  196.0\n11  1.0  0.0  1.479011  0.860247   7        70.0   49.0\n12  1.0  0.0  0.223923  1.030258   8        80.0   64.0\n13  1.0  0.0  2.918245  0.409249  10       100.0  100.0\n14  0.0  1.0  1.447071  0.061543   4        -1.0   16.0\n15  1.0  0.0  2.269534  1.754568  19       190.0  361.0\n16  0.0  1.0  2.804809  1.114212  15        -1.0  225.0\n17  0.0  1.0  2.539715  1.850662  21        -1.0  441.0\n18  0.0  1.0  1.300125  1.178924   5        -1.0   25.0\n19  1.0  0.0  1.275172  0.756409  11       110.0  121.0",
      "text/html": "<div>\n<style scoped>\n    .dataframe tbody tr th:only-of-type {\n        vertical-align: middle;\n    }\n\n    .dataframe tbody tr th {\n        vertical-align: top;\n    }\n\n    .dataframe thead th {\n        text-align: right;\n    }\n</style>\n<table border=\"1\" class=\"dataframe\">\n  <thead>\n    <tr style=\"text-align: right;\">\n      <th></th>\n      <th>x_1</th>\n      <th>x_2</th>\n      <th>x_3</th>\n      <th>x_4</th>\n      <th>y</th>\n      <th>new_column</th>\n      <th>col_2</th>\n    </tr>\n  </thead>\n  <tbody>\n    <tr>\n      <th>0</th>\n      <td>1.0</td>\n      <td>0.0</td>\n      <td>2.976142</td>\n      <td>0.651482</td>\n      <td>10</td>\n      <td>100.0</td>\n      <td>100.0</td>\n    </tr>\n    <tr>\n      <th>1</th>\n      <td>0.0</td>\n      <td>1.0</td>\n      <td>1.411390</td>\n      <td>0.743732</td>\n      <td>12</td>\n      <td>-1.0</td>\n      <td>144.0</td>\n    </tr>\n    <tr>\n      <th>2</th>\n      <td>0.0</td>\n      <td>1.0</td>\n      <td>1.039892</td>\n      <td>1.290588</td>\n      <td>7</td>\n      <td>-1.0</td>\n      <td>49.0</td>\n    </tr>\n    <tr>\n      <th>3</th>\n      <td>1.0</td>\n      <td>0.0</td>\n      <td>2.338679</td>\n      <td>0.973942</td>\n      <td>15</td>\n      <td>150.0</td>\n      <td>225.0</td>\n    </tr>\n    <tr>\n      <th>4</th>\n      <td>0.0</td>\n      <td>1.0</td>\n      <td>2.385257</td>\n      <td>0.297921</td>\n      <td>9</td>\n      <td>-1.0</td>\n      <td>81.0</td>\n    </tr>\n    <tr>\n      <th>5</th>\n      <td>0.0</td>\n      <td>1.0</td>\n      <td>2.912910</td>\n      <td>0.244489</td>\n      <td>8</td>\n      <td>-1.0</td>\n      <td>64.0</td>\n    </tr>\n    <tr>\n      <th>6</th>\n      <td>1.0</td>\n      <td>0.0</td>\n      <td>2.585491</td>\n      <td>0.133044</td>\n      <td>9</td>\n      <td>90.0</td>\n      <td>81.0</td>\n    </tr>\n    <tr>\n      <th>7</th>\n      <td>1.0</td>\n      <td>0.0</td>\n      <td>2.961107</td>\n      <td>0.338565</td>\n      <td>8</td>\n      <td>80.0</td>\n      <td>64.0</td>\n    </tr>\n    <tr>\n      <th>8</th>\n      <td>0.0</td>\n      <td>1.0</td>\n      <td>0.161944</td>\n      <td>0.481609</td>\n      <td>4</td>\n      <td>-1.0</td>\n      <td>16.0</td>\n    </tr>\n    <tr>\n      <th>9</th>\n      <td>0.0</td>\n      <td>1.0</td>\n      <td>2.512621</td>\n      <td>1.118481</td>\n      <td>16</td>\n      <td>-1.0</td>\n      <td>256.0</td>\n    </tr>\n    <tr>\n      <th>10</th>\n      <td>1.0</td>\n      <td>0.0</td>\n      <td>2.711287</td>\n      <td>0.463432</td>\n      <td>14</td>\n      <td>140.0</td>\n      <td>196.0</td>\n    </tr>\n    <tr>\n      <th>11</th>\n      <td>1.0</td>\n      <td>0.0</td>\n      <td>1.479011</td>\n      <td>0.860247</td>\n      <td>7</td>\n      <td>70.0</td>\n      <td>49.0</td>\n    </tr>\n    <tr>\n      <th>12</th>\n      <td>1.0</td>\n      <td>0.0</td>\n      <td>0.223923</td>\n      <td>1.030258</td>\n      <td>8</td>\n      <td>80.0</td>\n      <td>64.0</td>\n    </tr>\n    <tr>\n      <th>13</th>\n      <td>1.0</td>\n      <td>0.0</td>\n      <td>2.918245</td>\n      <td>0.409249</td>\n      <td>10</td>\n      <td>100.0</td>\n      <td>100.0</td>\n    </tr>\n    <tr>\n      <th>14</th>\n      <td>0.0</td>\n      <td>1.0</td>\n      <td>1.447071</td>\n      <td>0.061543</td>\n      <td>4</td>\n      <td>-1.0</td>\n      <td>16.0</td>\n    </tr>\n    <tr>\n      <th>15</th>\n      <td>1.0</td>\n      <td>0.0</td>\n      <td>2.269534</td>\n      <td>1.754568</td>\n      <td>19</td>\n      <td>190.0</td>\n      <td>361.0</td>\n    </tr>\n    <tr>\n      <th>16</th>\n      <td>0.0</td>\n      <td>1.0</td>\n      <td>2.804809</td>\n      <td>1.114212</td>\n      <td>15</td>\n      <td>-1.0</td>\n      <td>225.0</td>\n    </tr>\n    <tr>\n      <th>17</th>\n      <td>0.0</td>\n      <td>1.0</td>\n      <td>2.539715</td>\n      <td>1.850662</td>\n      <td>21</td>\n      <td>-1.0</td>\n      <td>441.0</td>\n    </tr>\n    <tr>\n      <th>18</th>\n      <td>0.0</td>\n      <td>1.0</td>\n      <td>1.300125</td>\n      <td>1.178924</td>\n      <td>5</td>\n      <td>-1.0</td>\n      <td>25.0</td>\n    </tr>\n    <tr>\n      <th>19</th>\n      <td>1.0</td>\n      <td>0.0</td>\n      <td>1.275172</td>\n      <td>0.756409</td>\n      <td>11</td>\n      <td>110.0</td>\n      <td>121.0</td>\n    </tr>\n  </tbody>\n</table>\n</div>"
     },
     "execution_count": 97,
     "metadata": {},
     "output_type": "execute_result"
    }
   ],
   "source": [
    "col2 = []\n",
    "for i, row in data_short.iterrows():\n",
    "    print(f'Row {i}: y-value: {row[\"y\"]}')\n",
    "    col2.append(row['y'] ** 2)\n",
    "\n",
    "data_short['col_2'] = col2\n",
    "data_short"
   ]
  },
  {
   "cell_type": "markdown",
   "metadata": {},
   "source": [
    "Not a great example here, but *loc* means index by value, *iloc* means index by index. For example, you can do iloc by -1, but NOT loc by -1."
   ]
  },
  {
   "cell_type": "code",
   "execution_count": 98,
   "metadata": {
    "ExecuteTime": {
     "end_time": "2023-10-19T18:23:48.722017483Z",
     "start_time": "2023-10-19T18:23:48.633167487Z"
    }
   },
   "outputs": [
    {
     "name": "stdout",
     "output_type": "stream",
     "text": [
      "x_1     1.000000\n",
      "x_2     0.000000\n",
      "x_3     1.275172\n",
      "x_4     0.756409\n",
      "y      11.000000\n",
      "Name: 19, dtype: float64\n",
      "x_1     0.000000\n",
      "x_2     1.000000\n",
      "x_3     1.825617\n",
      "x_4     0.059309\n",
      "y      11.000000\n",
      "Name: 2499, dtype: float64\n"
     ]
    }
   ],
   "source": [
    "print(data.loc[19])\n",
    "print(data.iloc[-1])"
   ]
  },
  {
   "cell_type": "markdown",
   "metadata": {},
   "source": [
    "### Create dataframe\n",
    "\n",
    "You can create dataframe from dictionary in row or column major manner. Notice that \"extra\" things will be filled with *Nan*."
   ]
  },
  {
   "cell_type": "code",
   "execution_count": 99,
   "metadata": {
    "ExecuteTime": {
     "end_time": "2023-10-19T18:23:50.932348934Z",
     "start_time": "2023-10-19T18:23:50.851788585Z"
    }
   },
   "outputs": [
    {
     "data": {
      "text/plain": "     a   b    c\n0    0   1  NaN\n1    1   2  NaN\n2    2   3  NaN\n3    3   4  NaN\n4    4   5  NaN\n5   10   9 -1.0\n6    6   7  NaN\n7    7   8  NaN\n8    8   9  NaN\n9    9  10  NaN\n10  10  11  NaN\n11  11  12  NaN\n12  12  13  NaN\n13  13  14  NaN\n14  14  15  NaN",
      "text/html": "<div>\n<style scoped>\n    .dataframe tbody tr th:only-of-type {\n        vertical-align: middle;\n    }\n\n    .dataframe tbody tr th {\n        vertical-align: top;\n    }\n\n    .dataframe thead th {\n        text-align: right;\n    }\n</style>\n<table border=\"1\" class=\"dataframe\">\n  <thead>\n    <tr style=\"text-align: right;\">\n      <th></th>\n      <th>a</th>\n      <th>b</th>\n      <th>c</th>\n    </tr>\n  </thead>\n  <tbody>\n    <tr>\n      <th>0</th>\n      <td>0</td>\n      <td>1</td>\n      <td>NaN</td>\n    </tr>\n    <tr>\n      <th>1</th>\n      <td>1</td>\n      <td>2</td>\n      <td>NaN</td>\n    </tr>\n    <tr>\n      <th>2</th>\n      <td>2</td>\n      <td>3</td>\n      <td>NaN</td>\n    </tr>\n    <tr>\n      <th>3</th>\n      <td>3</td>\n      <td>4</td>\n      <td>NaN</td>\n    </tr>\n    <tr>\n      <th>4</th>\n      <td>4</td>\n      <td>5</td>\n      <td>NaN</td>\n    </tr>\n    <tr>\n      <th>5</th>\n      <td>10</td>\n      <td>9</td>\n      <td>-1.0</td>\n    </tr>\n    <tr>\n      <th>6</th>\n      <td>6</td>\n      <td>7</td>\n      <td>NaN</td>\n    </tr>\n    <tr>\n      <th>7</th>\n      <td>7</td>\n      <td>8</td>\n      <td>NaN</td>\n    </tr>\n    <tr>\n      <th>8</th>\n      <td>8</td>\n      <td>9</td>\n      <td>NaN</td>\n    </tr>\n    <tr>\n      <th>9</th>\n      <td>9</td>\n      <td>10</td>\n      <td>NaN</td>\n    </tr>\n    <tr>\n      <th>10</th>\n      <td>10</td>\n      <td>11</td>\n      <td>NaN</td>\n    </tr>\n    <tr>\n      <th>11</th>\n      <td>11</td>\n      <td>12</td>\n      <td>NaN</td>\n    </tr>\n    <tr>\n      <th>12</th>\n      <td>12</td>\n      <td>13</td>\n      <td>NaN</td>\n    </tr>\n    <tr>\n      <th>13</th>\n      <td>13</td>\n      <td>14</td>\n      <td>NaN</td>\n    </tr>\n    <tr>\n      <th>14</th>\n      <td>14</td>\n      <td>15</td>\n      <td>NaN</td>\n    </tr>\n  </tbody>\n</table>\n</div>"
     },
     "execution_count": 99,
     "metadata": {},
     "output_type": "execute_result"
    }
   ],
   "source": [
    "data_list = [{'a': i, 'b': i + 1} for i in range(15)]\n",
    "data_list[5] = {'a': 10, 'b': 9, 'c': -1}\n",
    "\n",
    "df = pd.DataFrame(data_list)\n",
    "df"
   ]
  },
  {
   "cell_type": "markdown",
   "metadata": {},
   "source": [
    "Dataframe can also be created from 2D array. Naming the rows and columns is a good practice."
   ]
  },
  {
   "cell_type": "code",
   "execution_count": 100,
   "metadata": {
    "ExecuteTime": {
     "end_time": "2023-10-19T18:23:53.486646807Z",
     "start_time": "2023-10-19T18:23:53.378150358Z"
    }
   },
   "outputs": [
    {
     "data": {
      "text/plain": "       col 0  col 1  col 2  col 3  col 4  col 5  col 6  col 7  col 8  col 9\nrow 0      0      1      2      3      4      5      6      7      8      9\nrow 1     10     11     12     13     14     15     16     17     18     19\nrow 2     20     21     22     23     24     25     26     27     28     29\nrow 3     30     31     32     33     34     35     36     37     38     39\nrow 4     40     41     42     43     44     45     46     47     48     49",
      "text/html": "<div>\n<style scoped>\n    .dataframe tbody tr th:only-of-type {\n        vertical-align: middle;\n    }\n\n    .dataframe tbody tr th {\n        vertical-align: top;\n    }\n\n    .dataframe thead th {\n        text-align: right;\n    }\n</style>\n<table border=\"1\" class=\"dataframe\">\n  <thead>\n    <tr style=\"text-align: right;\">\n      <th></th>\n      <th>col 0</th>\n      <th>col 1</th>\n      <th>col 2</th>\n      <th>col 3</th>\n      <th>col 4</th>\n      <th>col 5</th>\n      <th>col 6</th>\n      <th>col 7</th>\n      <th>col 8</th>\n      <th>col 9</th>\n    </tr>\n  </thead>\n  <tbody>\n    <tr>\n      <th>row 0</th>\n      <td>0</td>\n      <td>1</td>\n      <td>2</td>\n      <td>3</td>\n      <td>4</td>\n      <td>5</td>\n      <td>6</td>\n      <td>7</td>\n      <td>8</td>\n      <td>9</td>\n    </tr>\n    <tr>\n      <th>row 1</th>\n      <td>10</td>\n      <td>11</td>\n      <td>12</td>\n      <td>13</td>\n      <td>14</td>\n      <td>15</td>\n      <td>16</td>\n      <td>17</td>\n      <td>18</td>\n      <td>19</td>\n    </tr>\n    <tr>\n      <th>row 2</th>\n      <td>20</td>\n      <td>21</td>\n      <td>22</td>\n      <td>23</td>\n      <td>24</td>\n      <td>25</td>\n      <td>26</td>\n      <td>27</td>\n      <td>28</td>\n      <td>29</td>\n    </tr>\n    <tr>\n      <th>row 3</th>\n      <td>30</td>\n      <td>31</td>\n      <td>32</td>\n      <td>33</td>\n      <td>34</td>\n      <td>35</td>\n      <td>36</td>\n      <td>37</td>\n      <td>38</td>\n      <td>39</td>\n    </tr>\n    <tr>\n      <th>row 4</th>\n      <td>40</td>\n      <td>41</td>\n      <td>42</td>\n      <td>43</td>\n      <td>44</td>\n      <td>45</td>\n      <td>46</td>\n      <td>47</td>\n      <td>48</td>\n      <td>49</td>\n    </tr>\n  </tbody>\n</table>\n</div>"
     },
     "execution_count": 100,
     "metadata": {},
     "output_type": "execute_result"
    }
   ],
   "source": [
    "data_2d = np.array([i for i in range(50)]).reshape(5, 10)\n",
    "\n",
    "df = pd.DataFrame(data_2d, columns=[f'col {i}' for i in range(10)], index=[f'row {i}' for i in range(5)])\n",
    "df"
   ]
  },
  {
   "cell_type": "markdown",
   "metadata": {},
   "source": [
    "Similarly, you can create dataframe directly from dictionary. It also supports whether the dicionary keys are row/col indices."
   ]
  },
  {
   "cell_type": "code",
   "execution_count": 101,
   "metadata": {
    "ExecuteTime": {
     "end_time": "2023-10-19T18:23:55.517650302Z",
     "start_time": "2023-10-19T18:23:55.457069819Z"
    }
   },
   "outputs": [
    {
     "data": {
      "text/plain": "   col 1 col 2\n0      3     a\n1      2     b\n2      1     c\n3      0     d",
      "text/html": "<div>\n<style scoped>\n    .dataframe tbody tr th:only-of-type {\n        vertical-align: middle;\n    }\n\n    .dataframe tbody tr th {\n        vertical-align: top;\n    }\n\n    .dataframe thead th {\n        text-align: right;\n    }\n</style>\n<table border=\"1\" class=\"dataframe\">\n  <thead>\n    <tr style=\"text-align: right;\">\n      <th></th>\n      <th>col 1</th>\n      <th>col 2</th>\n    </tr>\n  </thead>\n  <tbody>\n    <tr>\n      <th>0</th>\n      <td>3</td>\n      <td>a</td>\n    </tr>\n    <tr>\n      <th>1</th>\n      <td>2</td>\n      <td>b</td>\n    </tr>\n    <tr>\n      <th>2</th>\n      <td>1</td>\n      <td>c</td>\n    </tr>\n    <tr>\n      <th>3</th>\n      <td>0</td>\n      <td>d</td>\n    </tr>\n  </tbody>\n</table>\n</div>"
     },
     "execution_count": 101,
     "metadata": {},
     "output_type": "execute_result"
    }
   ],
   "source": [
    "data_dict = {'col 1': [3, 2, 1, 0],\n",
    "        'col 2': ['a', 'b', 'c', 'd']}\n",
    "\n",
    "df = pd.DataFrame.from_dict(data_dict)\n",
    "df"
   ]
  },
  {
   "cell_type": "code",
   "execution_count": 102,
   "metadata": {
    "ExecuteTime": {
     "end_time": "2023-10-19T18:23:56.909429089Z",
     "start_time": "2023-10-19T18:23:56.818761418Z"
    }
   },
   "outputs": [
    {
     "data": {
      "text/plain": "       0  1  2  3\ncol 1  3  2  1  0\ncol 2  a  b  c  d",
      "text/html": "<div>\n<style scoped>\n    .dataframe tbody tr th:only-of-type {\n        vertical-align: middle;\n    }\n\n    .dataframe tbody tr th {\n        vertical-align: top;\n    }\n\n    .dataframe thead th {\n        text-align: right;\n    }\n</style>\n<table border=\"1\" class=\"dataframe\">\n  <thead>\n    <tr style=\"text-align: right;\">\n      <th></th>\n      <th>0</th>\n      <th>1</th>\n      <th>2</th>\n      <th>3</th>\n    </tr>\n  </thead>\n  <tbody>\n    <tr>\n      <th>col 1</th>\n      <td>3</td>\n      <td>2</td>\n      <td>1</td>\n      <td>0</td>\n    </tr>\n    <tr>\n      <th>col 2</th>\n      <td>a</td>\n      <td>b</td>\n      <td>c</td>\n      <td>d</td>\n    </tr>\n  </tbody>\n</table>\n</div>"
     },
     "execution_count": 102,
     "metadata": {},
     "output_type": "execute_result"
    }
   ],
   "source": [
    "df = pd.DataFrame.from_dict(data_dict, orient='index')\n",
    "df"
   ]
  },
  {
   "cell_type": "markdown",
   "metadata": {},
   "source": [
    "### Simple plotting\n",
    "\n",
    "Pandas also support plotting. The images it generates are the same style as those in Matplotlib. Pandas plotting provides a quick way to visualize, while you might still need to resort to Matplotlib for more formal plots with higher flexibility."
   ]
  },
  {
   "cell_type": "code",
   "execution_count": 103,
   "metadata": {
    "ExecuteTime": {
     "end_time": "2023-10-19T18:24:00.815077031Z",
     "start_time": "2023-10-19T18:23:59.632093421Z"
    }
   },
   "outputs": [
    {
     "data": {
      "text/plain": "<Figure size 640x480 with 1 Axes>",
      "image/png": "[encoded data removed]"
     },
     "metadata": {},
     "output_type": "display_data"
    }
   ],
   "source": [
    "data.plot(kind='scatter', x='x_3', y='y', title='Plot of Data');"
   ]
  },
  {
   "cell_type": "code",
   "execution_count": 104,
   "metadata": {
    "ExecuteTime": {
     "end_time": "2023-10-19T18:24:07.846299081Z",
     "start_time": "2023-10-19T18:24:07.700460254Z"
    }
   },
   "outputs": [
    {
     "data": {
      "text/plain": "<Figure size 640x480 with 1 Axes>",
      "image/png": "[encoded data removed]"
     },
     "metadata": {},
     "output_type": "display_data"
    }
   ],
   "source": [
    "data['y'].plot(kind='hist', title='Y');"
   ]
  },
  {
   "cell_type": "code",
   "execution_count": 105,
   "metadata": {
    "ExecuteTime": {
     "end_time": "2023-10-19T18:24:10.331307400Z",
     "start_time": "2023-10-19T18:24:10.066838959Z"
    }
   },
   "outputs": [
    {
     "data": {
      "text/plain": "<Figure size 640x480 with 1 Axes>",
      "image/png": "[encoded data removed]"
     },
     "metadata": {},
     "output_type": "display_data"
    }
   ],
   "source": [
    "data.boxplot(column='x_3', by='y');"
   ]
  },
  {
   "cell_type": "code",
   "execution_count": 106,
   "metadata": {
    "ExecuteTime": {
     "end_time": "2023-10-19T18:24:14.464173836Z",
     "start_time": "2023-10-19T18:24:14.413864942Z"
    }
   },
   "outputs": [
    {
     "data": {
      "text/plain": "array([[ 1.        ,  0.        ,  2.97614241,  0.65148205, 10.        ],\n       [ 0.        ,  1.        ,  1.4113903 ,  0.74373156, 12.        ],\n       [ 0.        ,  1.        ,  1.03989184,  1.2905879 ,  7.        ],\n       ...,\n       [ 0.        ,  1.        ,  1.49124324,  0.84115559,  7.        ],\n       [ 0.        ,  1.        ,  2.8631773 ,  1.13793409, 12.        ],\n       [ 0.        ,  1.        ,  1.82561719,  0.05930945, 11.        ]])"
     },
     "execution_count": 106,
     "metadata": {},
     "output_type": "execute_result"
    }
   ],
   "source": [
    "data.to_numpy()"
   ]
  },
  {
   "cell_type": "code",
   "execution_count": 107,
   "metadata": {
    "ExecuteTime": {
     "end_time": "2023-10-19T18:24:16.664307443Z",
     "start_time": "2023-10-19T18:24:16.572896028Z"
    }
   },
   "outputs": [
    {
     "ename": "NameError",
     "evalue": "name 'plt' is not defined",
     "output_type": "error",
     "traceback": [
      "\u001B[0;31m---------------------------------------------------------------------------\u001B[0m",
      "\u001B[0;31mNameError\u001B[0m                                 Traceback (most recent call last)",
      "Cell \u001B[0;32mIn[107], line 1\u001B[0m\n\u001B[0;32m----> 1\u001B[0m \u001B[43mplt\u001B[49m\u001B[38;5;241m.\u001B[39mscatter(data[\u001B[38;5;124m'\u001B[39m\u001B[38;5;124mx_1\u001B[39m\u001B[38;5;124m'\u001B[39m], data[\u001B[38;5;124m'\u001B[39m\u001B[38;5;124my\u001B[39m\u001B[38;5;124m'\u001B[39m])\n",
      "\u001B[0;31mNameError\u001B[0m: name 'plt' is not defined"
     ]
    }
   ],
   "source": [
    "plt.scatter(data['x_1'], data['y'])"
   ]
  }
 ],
 "metadata": {
  "kernelspec": {
   "display_name": "Python 3 (ipykernel)",
   "language": "python",
   "name": "python3"
  },
  "language_info": {
   "codemirror_mode": {
    "name": "ipython",
    "version": 3
   },
   "file_extension": ".py",
   "mimetype": "text/x-python",
   "name": "python",
   "nbconvert_exporter": "python",
   "pygments_lexer": "ipython3",
   "version": "3.7.9"
  }
 },
 "nbformat": 4,
 "nbformat_minor": 4
}
