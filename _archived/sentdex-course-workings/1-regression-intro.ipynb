{
 "cells": [
  {
   "cell_type": "markdown",
   "source": [
    "## Regression"
   ],
   "metadata": {
    "collapsed": false
   },
   "id": "58ac427b03802"
  },
  {
   "cell_type": "code",
   "execution_count": 33,
   "outputs": [
    {
     "name": "stdout",
     "output_type": "stream",
     "text": [
      "         Date  Adj. Close    HL_PCT  PCT_Change  Adj. Volume      Label\n",
      "0  2004-08-19   50.322842  8.072956    0.324968   44659000.0  69.078238\n",
      "1  2004-08-20   54.322689  7.921706    7.227007   22834300.0  67.839414\n",
      "2  2004-08-23   54.869377  4.049360   -1.227880   18256100.0  68.912727\n",
      "3  2004-08-24   52.597363  7.657099   -5.726357   15247300.0  70.668146\n",
      "4  2004-08-25   53.164113  3.886792    1.183658    9188600.0  71.219849\n"
     ]
    }
   ],
   "source": [
    "import math\n",
    "import pandas as pd\n",
    "\n",
    "df = pd.read_csv('./wiki_googl.csv')\n",
    "\n",
    "dates = df['Date']\n",
    "hiLowPercent = (df['Adj. High'] - df['Adj. Low'])/df['Adj. Close'] * 100\n",
    "percentChange = (df['Adj. Close'] - df['Adj. Open'])/df['Adj. Open'] * 100\n",
    "adjClose = df['Adj. Close']\n",
    "adjVol = df['Adj. Volume']\n",
    "\n",
    "data = {'Date': dates, 'Adj. Close': adjClose, 'HL_PCT': hiLowPercent, 'PCT_Change': percentChange, 'Adj. Volume': adjVol}\n",
    "f_Df = pd.DataFrame(data)\n",
    "forecast_column = 'Adj. Close'\n",
    "f_Df.fillna(-99999, inplace=True)\n",
    "\n",
    "forecast_out = int(math.ceil(0.01 * len(f_Df)))\n",
    "\n",
    "f_Df['Label'] = df[forecast_column].shift(-forecast_out)\n",
    "\n",
    "print(f_Df.head())"
   ],
   "metadata": {
    "collapsed": false,
    "ExecuteTime": {
     "end_time": "2023-10-24T16:48:51.619637995Z",
     "start_time": "2023-10-24T16:48:51.607075478Z"
    }
   },
   "id": "c45dc5e7ad0ca1b6"
  }
 ],
 "metadata": {
  "kernelspec": {
   "display_name": "Python 3",
   "language": "python",
   "name": "python3"
  },
  "language_info": {
   "codemirror_mode": {
    "name": "ipython",
    "version": 2
   },
   "file_extension": ".py",
   "mimetype": "text/x-python",
   "name": "python",
   "nbconvert_exporter": "python",
   "pygments_lexer": "ipython2",
   "version": "2.7.6"
  }
 },
 "nbformat": 4,
 "nbformat_minor": 5
}
