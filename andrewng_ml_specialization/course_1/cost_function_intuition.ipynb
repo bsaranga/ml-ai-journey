{
 "cells": [
  {
   "cell_type": "markdown",
   "id": "eef7e768-7d0e-4664-9b71-6c9bb19f8ba3",
   "metadata": {},
   "source": [
    "## Linear Regression Intuition"
   ]
  },
  {
   "cell_type": "markdown",
   "id": "d6c84523-8e90-44b3-93de-0b8e7e23f8bf",
   "metadata": {},
   "source": [
    "We first define a model that's suitable for our dataset. In our case a linear line that goes through the datapoints is sufficient. For this we have found our hypothesis function to be..."
   ]
  },
  {
   "cell_type": "markdown",
   "id": "078a11dd-9ac0-40c9-92d5-bd7fb21e7d54",
   "metadata": {},
   "source": [
    "$$\n",
    "f(x) = wx + b\n",
    "$$"
   ]
  },
  {
   "cell_type": "markdown",
   "id": "5e17edf2-fe6e-4b50-aa45-0c6f03892367",
   "metadata": {},
   "source": [
    "Let's illustrate our actual datapoints by $y^{(i)}$, and our predicted points to be $\\hat y^{(i)}$, the idea behind regression is to find a function that captures the difference (error) between the two variables and miminizing it."
   ]
  },
  {
   "cell_type": "markdown",
   "id": "c38cc28d-279d-41c1-92f5-421f20601e12",
   "metadata": {},
   "source": [
    "$$\n",
    "J = \\frac{1}{2m} \\sum_{i=1}^{m} \\left( \\hat{y}^{(i)} - y^{(i)}\\right)^2\n",
    "$$\n",
    "\n",
    "where $\\hat{y}^{(i)} = w{x}^{(i)} + b$"
   ]
  },
  {
   "cell_type": "markdown",
   "id": "ca276087-8be6-4f7c-a229-ee6fbbdecc31",
   "metadata": {},
   "source": [
    "This function captures the error of the target variable $y^{(i)}$ and the expected $\\hat y^{(i)}$. We square it to get a positive value for negative errors, when $\\hat y^{(i)} < y^{(i)}$, and we sum all those errors and divide by the number of training samples $m$, and the additional $\\frac{1}{2}$ is to cancel out the exponent after differentiation."
   ]
  },
  {
   "cell_type": "markdown",
   "id": "fda77c1a-f9e8-42ef-b005-ecbd67b10bc7",
   "metadata": {},
   "source": [
    "After we substitute $\\hat{y}^{(i)} = w{x}^{(i)} + b$ into the function it looks like this..."
   ]
  },
  {
   "cell_type": "markdown",
   "id": "d0ba32ed-530e-4144-a1e4-f4b4459f305a",
   "metadata": {},
   "source": [
    "$$\n",
    "J(w, b) = \\frac{1}{2m} \\sum_{i=1}^{m} \\left( w{x}^{(i)} + b - y^{(i)}\\right)^2\n",
    "$$"
   ]
  },
  {
   "cell_type": "markdown",
   "id": "4bc317bb-8b99-4bb2-ad92-f4ab0353b990",
   "metadata": {},
   "source": [
    "Now that we have a cost function, we can minimize this to find the parameters we need. $w$ and $b$. For this we can use gradient descent. Note the assignment operator and $\\alpha$ which is our learning rate. Usually this is initialized to a small number."
   ]
  },
  {
   "cell_type": "markdown",
   "id": "5e1e4c4a-ce05-4746-888b-ff214ee88a22",
   "metadata": {},
   "source": [
    "$$\n",
    "w := w - \\alpha\\cdot\\frac{\\partial J}{\\partial w}\n",
    "$$\n",
    "$$\n",
    "b := b - \\alpha\\cdot\\frac{\\partial J}{\\partial b}\n",
    "$$"
   ]
  },
  {
   "cell_type": "markdown",
   "id": "90da72e6-7981-4d49-b7f1-ea7919e4b946",
   "metadata": {},
   "source": [
    "Let's treat $J(u) = u^2$ where $u = wx^{(i)} + b - y^{(i)}$, so by the chain rule\n",
    "\n",
    "$$\n",
    "\\frac {\\partial J}{\\partial w} = \\frac {\\partial J}{\\partial u} \\cdot \\frac {\\partial u}{\\partial w}\n",
    "$$\n",
    "and...\n",
    "$$\n",
    "\\frac {\\partial J}{\\partial b} = \\frac {\\partial J}{\\partial u} \\cdot \\frac {\\partial u}{\\partial b}\n",
    "$$\n",
    "\n",
    "computing these gives us...\n",
    "\n",
    "$$\n",
    "\\frac{\\partial J}{\\partial w} = \\frac{1}{m} \\sum_{i=1}^{m} \\left( wx^{(i)} + b - y^{(i)} \\right) \\cdot x^{(i)}\n",
    "$$\n",
    "\n",
    "and\n",
    "\n",
    "$$\n",
    "\\frac{\\partial J}{\\partial b} = \\frac{1}{m} \\sum_{i=1}^{m} \\left(wx^{(i)} + b - y^{(i)} \\right)\n",
    "$$"
   ]
  }
 ],
 "metadata": {
  "kernelspec": {
   "display_name": "Python 3 (ipykernel)",
   "language": "python",
   "name": "python3"
  },
  "language_info": {
   "codemirror_mode": {
    "name": "ipython",
    "version": 3
   },
   "file_extension": ".py",
   "mimetype": "text/x-python",
   "name": "python",
   "nbconvert_exporter": "python",
   "pygments_lexer": "ipython3",
   "version": "3.12.3"
  }
 },
 "nbformat": 4,
 "nbformat_minor": 5
}
