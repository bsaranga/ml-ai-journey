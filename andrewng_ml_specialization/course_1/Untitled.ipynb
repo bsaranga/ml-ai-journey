{
 "cells": [
  {
   "cell_type": "markdown",
   "id": "eef7e768-7d0e-4664-9b71-6c9bb19f8ba3",
   "metadata": {},
   "source": [
    "$E = mc^2$"
   ]
  }
 ],
 "metadata": {
  "kernelspec": {
   "display_name": "Python 3 (ipykernel)",
   "language": "python",
   "name": "python3"
  },
  "language_info": {
   "codemirror_mode": {
    "name": "ipython",
    "version": 3
   },
   "file_extension": ".py",
   "mimetype": "text/x-python",
   "name": "python",
   "nbconvert_exporter": "python",
   "pygments_lexer": "ipython3",
   "version": "3.12.3"
  }
 },
 "nbformat": 4,
 "nbformat_minor": 5
}
